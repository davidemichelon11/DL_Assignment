{
  "cells": [
    {
      "cell_type": "markdown",
      "metadata": {
        "id": "uY03c6gbuYAT"
      },
      "source": [
        "# Import libraries"
      ]
    },
    {
      "cell_type": "code",
      "execution_count": null,
      "metadata": {
        "id": "4nCxw3XdPwwv"
      },
      "outputs": [],
      "source": [
        "from google.colab import drive\n",
        "import os\n",
        "import shutil\n",
        "from tqdm import tqdm\n",
        "import torch\n",
        "import torchvision\n",
        "import torch.nn as nn\n",
        "from torch.autograd import Function\n",
        "import torch.nn.functional as F\n",
        "import torchvision.transforms as T\n",
        "from torch.utils.tensorboard import SummaryWriter\n",
        "from torchvision.models import ResNet18_Weights, ResNet34_Weights, ResNet50_Weights, ResNet101_Weights, ResNet152_Weights\n",
        "import matplotlib.pyplot as plt\n",
        "import torch.backends.cudnn as cudnn\n",
        "import random\n",
        "import numpy as np\n",
        "from collections import defaultdict\n",
        "import math"
      ]
    },
    {
      "cell_type": "markdown",
      "metadata": {
        "id": "57Y8geD1uccJ"
      },
      "source": [
        "# Extract data and create dataset"
      ]
    },
    {
      "cell_type": "code",
      "execution_count": null,
      "metadata": {
        "id": "3C4tGtJuITp1"
      },
      "outputs": [],
      "source": [
        "drive.mount('/content/gdrive')"
      ]
    },
    {
      "cell_type": "code",
      "execution_count": null,
      "metadata": {
        "id": "Jn9EIurhutPN"
      },
      "outputs": [],
      "source": [
        "!unzip -q -o gdrive/MyDrive/Adaptiope.zip "
      ]
    },
    {
      "cell_type": "code",
      "execution_count": null,
      "metadata": {
        "id": "8GPGsSMGRdHX"
      },
      "outputs": [],
      "source": [
        "classes = [\"/backpack\", \"/bookcase\", \"/car jack\", \"/comb\", \"/crown\", \"/file cabinet\", \"/flat iron\", \"/game controller\", \"/glasses\",\n",
        "           \"/helicopter\", \"/ice skates\", \"/letter tray\", \"/monitor\", \"/mug\", \"/network switch\", \"/over-ear headphones\", \"/pen\",\n",
        "           \"/purse\", \"/stand mixer\", \"/stroller\"]\n",
        "\n",
        "for d, td in zip([\"Adaptiope/product_images\", \"Adaptiope/real_life\"], [\"adaptiope_small/product_images\", \"adaptiope_small/real_life\"]):\n",
        "  os.makedirs(td)\n",
        "  for c in tqdm(classes):\n",
        "    c_path = ''.join((d, c))\n",
        "    c_target = ''.join((td, c))\n",
        "    shutil.copytree(c_path, c_target)"
      ]
    },
    {
      "cell_type": "markdown",
      "metadata": {
        "id": "FVrMqpSCyxwl"
      },
      "source": [
        "# Create dataloader"
      ]
    },
    {
      "cell_type": "markdown",
      "source": [
        "This code defines a function `get_data()` and it takes four parameters as input:\n",
        "\n",
        "\n",
        "*   `batch_size`: the number of data samples per batch to be loaded in memory at a time \n",
        "*   `product_root`: the path to the directory containing the source domain images.\n",
        "*   `real_root`: the path to the directory containing the target domain images.\n",
        "*   `num_ops`: number of data augmentations for RandArgument transformation.\n",
        "*   `magnitude`: size of the data augmentations for RandArgument transformation.\n",
        "\n",
        "\n",
        "The function creates two separate lists of transformations, one is a soft transformation which contains Resize, RandomCrop and normalization, the other is strong transformation which contains all the previous transformation and RandArgument.\n",
        "\n",
        "After that, we created four separate datasets, one for the source domain with soft transformation, one for the target domain with soft transformation, one for the source domain with strong transformation and one for the target domain with strong transformation.\n",
        "\n",
        "Next, the code splits the data into training and test sets, using 80% of the data for training and 20% for testing. Then it uses the RandomSampler class to randomly sample from the source and target datasets during training, which helps to prevent overfitting.\n",
        "\n",
        "Finally, the code creates four data loaders, one for each dataset. The data loaders are PyTorch objects that allow easy iteration through the data, loading batches of images in memory as needed during training.\n"
      ],
      "metadata": {
        "id": "9SY3Q2F2XGL1"
      }
    },
    {
      "cell_type": "code",
      "execution_count": null,
      "metadata": {
        "id": "2fkEbfTGVE-0"
      },
      "outputs": [],
      "source": [
        "def get_data(batch_size, product_root, real_root, num_ops=2, magnitude=10):\n",
        "  # resizing and cropping\n",
        "  # prepare data transformations for the train loader\n",
        "  transform = list()\n",
        "  transform.append(T.Resize((256, 256)))                      # resize each PIL image to 256 x 256\n",
        "  transform.append(T.RandomCrop((224, 224)))                 # randomly crop a 224 x 224 patch\n",
        "  transform.append(T.ToTensor())                              # convert Numpy to Pytorch Tensor\n",
        "  transform.append(T.Normalize(mean=[0.485, 0.456, 0.406], \n",
        "                               std=[0.229, 0.224, 0.225]))    # normalize with ImageNet mean\n",
        "  \n",
        "  # compose the above transformations into weak and strong (which has RandAugment in addition)\n",
        "  transform_weak = T.Compose(transform.copy())\n",
        "  transform_strong = T.Compose(transform.copy())                           \n",
        "  transform_strong.transforms.insert(0, T.RandAugment(num_ops, magnitude))\n",
        "    \n",
        "  # load data\n",
        "  dataset_prod = torchvision.datasets.ImageFolder(root=product_root, transform=transform_weak)\n",
        "  dataset_prod_aug = torchvision.datasets.ImageFolder(root=product_root, transform=transform_strong)\n",
        "  dataset_real = torchvision.datasets.ImageFolder(root=real_root, transform=transform_weak)\n",
        "  dataset_real_aug = torchvision.datasets.ImageFolder(root=real_root, transform=transform_strong)\n",
        "  \n",
        "  # create train and test splits (80/20)\n",
        "  num_samples = len(dataset_prod) # same number of samples among datasets\n",
        "  training_samples = int(num_samples * 0.8 + 1)\n",
        "  test_samples = num_samples - training_samples\n",
        "\n",
        "  train_data_prod, test_data_prod = torch.utils.data.random_split(dataset_prod, [training_samples, test_samples], generator=torch.Generator().manual_seed(1))\n",
        "  train_data_prod_aug, test_data_prod_aug = torch.utils.data.random_split(dataset_prod_aug, [training_samples, test_samples], generator=torch.Generator().manual_seed(1))\n",
        "  train_data_real, test_data_real = torch.utils.data.random_split(dataset_real, [training_samples, test_samples], generator=torch.Generator().manual_seed(2))\n",
        "  train_data_real_aug, test_data_real_aug = torch.utils.data.random_split(dataset_real_aug, [training_samples, test_samples], generator=torch.Generator().manual_seed(2))\n",
        "\n",
        "  # initialize sampler to get same data from weak and augment\n",
        "  sampler_prod = torch.utils.data.RandomSampler(train_data_prod, generator=torch.Generator().manual_seed(1))\n",
        "  sampler_prod_aug = torch.utils.data.RandomSampler(train_data_prod_aug, generator=torch.Generator().manual_seed(1))\n",
        "  sampler_real = torch.utils.data.RandomSampler(train_data_real, generator=torch.Generator().manual_seed(2))\n",
        "  sampler_real_aug = torch.utils.data.RandomSampler(train_data_real, generator=torch.Generator().manual_seed(2))\n",
        "\n",
        "  # initialize dataloaders\n",
        "  train_loader_prod = torch.utils.data.DataLoader(train_data_prod, batch_size, sampler=sampler_prod)\n",
        "  test_loader_prod = torch.utils.data.DataLoader(test_data_prod, batch_size, shuffle=False)\n",
        "  train_loader_prod_aug = torch.utils.data.DataLoader(train_data_prod_aug, batch_size, sampler=sampler_prod_aug)\n",
        "  test_loader_prod_aug = torch.utils.data.DataLoader(test_data_prod_aug, batch_size, shuffle=False)\n",
        "  \n",
        "  train_loader_real = torch.utils.data.DataLoader(train_data_real, batch_size, sampler=sampler_real)\n",
        "  test_loader_real = torch.utils.data.DataLoader(test_data_real, batch_size, shuffle=False)\n",
        "  train_loader_real_aug = torch.utils.data.DataLoader(train_data_real_aug, batch_size, sampler=sampler_real_aug)\n",
        "  test_loader_real_aug = torch.utils.data.DataLoader(test_data_real_aug, batch_size, shuffle=False)\n",
        "  \n",
        "  return (train_loader_prod, test_loader_prod), (train_loader_prod_aug, test_loader_prod_aug), (train_loader_real, test_loader_real), (train_loader_real_aug, test_loader_real_aug)"
      ]
    },
    {
      "cell_type": "markdown",
      "metadata": {
        "id": "kSH5iS7K1C2I"
      },
      "source": [
        "# Create model"
      ]
    },
    {
      "cell_type": "markdown",
      "source": [
        "In accordance with the paper titled \"Transferable Attribute Learning for Multi-Source Domain Adaptation\" by authors Zhongying Deng, Kaiyang Zhou, Yongxin Yang, Tao Xiang, available at the following link: https://arxiv.org/pdf/2111.03911.pdf, we have implemented the proposed method, referred to as DAC-Net, in the form of computer code.\n",
        "\n",
        "The paper presents a new approach to multi-source domain adaptation (MSDA) called transferable attribute learning. The main idea is that different domains have different visual appearances but they contain the same classes characterized by the same set of attributes. The authors propose a new model called DAC-Net, which uses a feature channel attention module to identify transferable features (attributes). The attention module is supervised by a consistency loss, which is imposed on the distributions of channel attention weights between source and target domains. Additionally, to improve the discriminative feature learning on the target data, the authors use pseudo-labeling and class compactness loss to minimize the distance between the target features and the classifier's weight vectors."
      ],
      "metadata": {
        "id": "DtMq9YxAEctv"
      }
    },
    {
      "cell_type": "markdown",
      "metadata": {
        "id": "LwWTeBXhiU7F"
      },
      "source": [
        "### Channel attention module"
      ]
    },
    {
      "cell_type": "markdown",
      "source": [
        "With attention modeling for each image, DAC-Net is encouraged to use a subset of the feature channels to explain the image content, therefore facilitating the discovery of transferable latent attributes."
      ],
      "metadata": {
        "id": "ji-be2XnGhBO"
      }
    },
    {
      "cell_type": "markdown",
      "source": [
        "![photo_2023-01-24_10-17-18.jpg](data:image/jpeg;base64,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)"
      ],
      "metadata": {
        "id": "9AHiyEZbcuu3"
      }
    },
    {
      "cell_type": "code",
      "execution_count": null,
      "metadata": {
        "id": "92eb78XZfVn_"
      },
      "outputs": [],
      "source": [
        "class ChannelAttention(nn.Module):\n",
        "    def __init__(self, in_planes, ratio=16):\n",
        "        super(ChannelAttention, self).__init__()\n",
        "        self.avg_pool = nn.AdaptiveAvgPool2d(1)\n",
        "        self.max_pool = nn.AdaptiveMaxPool2d(1)\n",
        "        \n",
        "        self.fc1 = nn.Conv2d(in_planes, in_planes // ratio, 1, bias=False)\n",
        "        self.relu1 = nn.ReLU()\n",
        "        self.fc2 = nn.Conv2d(in_planes // ratio, in_planes, 1, bias=False)\n",
        "        \n",
        "        self.sigmoid = nn.Sigmoid()\n",
        "        \n",
        "    def forward(self, x):\n",
        "        avg_out = self.fc2(self.relu1(self.fc1(self.avg_pool(x))))\n",
        "        max_out = self.fc2(self.relu1(self.fc1(self.max_pool(x))))\n",
        "        out = avg_out + max_out\n",
        "        return self.sigmoid(out)"
      ]
    },
    {
      "cell_type": "markdown",
      "metadata": {
        "id": "VZSIzfjvyK0M"
      },
      "source": [
        "### Discriminator module"
      ]
    },
    {
      "cell_type": "code",
      "execution_count": null,
      "metadata": {
        "id": "4LiGaHeeyRue"
      },
      "outputs": [],
      "source": [
        "class DiscriminatorConv(nn.Module):\n",
        "    def __init__(self, c1, num_convs=2):\n",
        "        super().__init__()\n",
        "        self.rev = GradientReversal()\n",
        "\n",
        "        dis_tower = []\n",
        "        for _ in range(num_convs):\n",
        "            dis_tower.append(\n",
        "                nn.Conv2d(\n",
        "                    c1,\n",
        "                    c1,\n",
        "                    kernel_size=3,\n",
        "                    stride=1,\n",
        "                    padding=1\n",
        "                )\n",
        "            )\n",
        "            dis_tower.append(nn.GroupNorm(32, c1))\n",
        "            dis_tower.append(nn.ReLU())\n",
        "\n",
        "        self.add_module('dis_tower', nn.Sequential(*dis_tower))\n",
        "\n",
        "        self.cls_logits = nn.Conv2d(\n",
        "            c1, 1, kernel_size=3, stride=1,\n",
        "            padding=1\n",
        "        )\n",
        "\n",
        "        # initialization\n",
        "        for modules in [self.dis_tower, self.cls_logits]:\n",
        "            for l in modules.modules():\n",
        "                if isinstance(l, nn.Conv2d):\n",
        "                    torch.nn.init.normal_(l.weight, std=0.01)\n",
        "                    torch.nn.init.constant_(l.bias, 0)\n",
        "    \n",
        "    def forward(self, x, lambda_):\n",
        "        x = self.rev(x, lambda_)\n",
        "        \n",
        "        x = self.dis_tower(x)\n",
        "        x = self.cls_logits(x)\n",
        "        return x\n",
        "\n",
        "\n",
        "class GradientReversal(torch.nn.Module):\n",
        "    def __init__(self):\n",
        "        super(GradientReversal, self).__init__()\n",
        "\n",
        "    def forward(self, x, lambda_):\n",
        "        return GradientReversalFunction.apply(x, lambda_)\n",
        "\n",
        "\n",
        "class GradientReversalFunction(Function):\n",
        "    \"\"\"\n",
        "    Gradient Reversal Layer from:\n",
        "    Unsupervised Domain Adaptation by Backpropagation (Ganin & Lempitsky, 2015)\n",
        "    Forward pass is the identity function. In the backward pass,\n",
        "    the upstream gradients are multiplied by -lambda (i.e. gradient is reversed)\n",
        "    \"\"\"\n",
        "\n",
        "    @staticmethod\n",
        "    def forward(ctx, x, lambda_):\n",
        "        ctx.lambda_ = lambda_\n",
        "        return x.clone()\n",
        "\n",
        "    @staticmethod\n",
        "    def backward(ctx, grads):\n",
        "        lambda_ = ctx.lambda_\n",
        "        lambda_ = grads.new_tensor(lambda_)\n",
        "        dx = -lambda_ * grads\n",
        "        return dx, None"
      ]
    },
    {
      "cell_type": "markdown",
      "metadata": {
        "id": "Ke2vue9KicqL"
      },
      "source": [
        "### BasicBlock and Bottleneck modules of ResNet"
      ]
    },
    {
      "cell_type": "markdown",
      "source": [
        "The architecture is described by the class `BasicBlock`, which includes two convolutional layers, batch normalization layers, and a ReLU activation function. The `BasicBlock` also includes a ChannelAttention module, which has been described in the previous section. The basic block also includes options for downsampling, using attention, and outputting attention weights. The forward method of the basic block applies these operations to the input data, x, and returns the output of the block. The final output of the network is a tensor, which can be used for further analysis or classification. The class `Bottleneck` can be used in bigger ResNet architecture, to increase the capacity of the model to learn more complex features from the input data. However, this also increases the number of parameters in the network and thus requires more resources to train and run. Please refer to the image provided for a complete description of the architecture."
      ],
      "metadata": {
        "id": "QI1-ev4xROaT"
      }
    },
    {
      "cell_type": "markdown",
      "source": [
        "![Cattura.PNG](data:image/png;base64,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)"
      ],
      "metadata": {
        "id": "m1M-RYDeRHTH"
      }
    },
    {
      "cell_type": "code",
      "execution_count": null,
      "metadata": {
        "id": "rQvfrrXEhXkE"
      },
      "outputs": [],
      "source": [
        "def conv3x3(in_planes, out_planes, stride=1):\n",
        "    \"\"\"3x3 convolution with padding\"\"\"\n",
        "    return nn.Conv2d(\n",
        "        in_planes,\n",
        "        out_planes,\n",
        "        kernel_size=3,\n",
        "        stride=stride,\n",
        "        padding=1,\n",
        "        bias=False\n",
        "    )\n",
        "\n",
        "\n",
        "class BasicBlock(nn.Module):\n",
        "    expansion = 1\n",
        "\n",
        "    def __init__(self, inplanes, planes, stride=1, downsample=None, use_attention=True, output_attention=False):\n",
        "        super().__init__()\n",
        "        self.conv1 = conv3x3(inplanes, planes, stride)\n",
        "        self.bn1 = nn.BatchNorm2d(planes)\n",
        "        self.relu = nn.ReLU(inplace=True)\n",
        "        self.conv2 = conv3x3(planes, planes)\n",
        "        self.bn2 = nn.BatchNorm2d(planes)\n",
        "\n",
        "        self.ca = ChannelAttention(planes)\n",
        "        self.downsample = downsample\n",
        "        self.stride = stride\n",
        "        self.output_attention = output_attention\n",
        "        self.use_attention = use_attention\n",
        "\n",
        "    def forward(self, x):\n",
        "        residual = x\n",
        "\n",
        "        out = self.conv1(x)\n",
        "        out = self.bn1(out)\n",
        "        out = self.relu(out)\n",
        "\n",
        "        out = self.conv2(out)\n",
        "        out = self.bn2(out)\n",
        "\n",
        "        if self.downsample is not None:\n",
        "            residual = self.downsample(x)\n",
        "\n",
        "        if self.use_attention:\n",
        "            out_ca = self.ca(out)\n",
        "            out = residual + out_ca * out\n",
        "        else:\n",
        "            out = residual + out\n",
        "            out_ca = []\n",
        "        out = self.relu(out)\n",
        "        if self.output_attention:\n",
        "            return out, out_ca\n",
        "        else:\n",
        "            return out\n",
        "\n",
        "\n",
        "class Bottleneck(nn.Module):\n",
        "    expansion = 4\n",
        "\n",
        "    def __init__(self, inplanes, planes, stride=1, downsample=None, use_attention=True, output_attention=False):\n",
        "        super().__init__()\n",
        "        self.conv1 = nn.Conv2d(inplanes, planes, kernel_size=1, bias=False)\n",
        "        self.bn1 = nn.BatchNorm2d(planes)\n",
        "        self.conv2 = nn.Conv2d(\n",
        "            planes,\n",
        "            planes,\n",
        "            kernel_size=3,\n",
        "            stride=stride,\n",
        "            padding=1,\n",
        "            bias=False\n",
        "        )\n",
        "        self.bn2 = nn.BatchNorm2d(planes)\n",
        "        self.conv3 = nn.Conv2d(\n",
        "            planes, planes * self.expansion, kernel_size=1, bias=False\n",
        "        )\n",
        "        self.bn3 = nn.BatchNorm2d(planes * self.expansion)\n",
        "        self.relu = nn.ReLU(inplace=True)\n",
        "\n",
        "        self.ca = ChannelAttention(planes * self.expansion)\n",
        "        self.downsample = downsample\n",
        "        self.stride = stride\n",
        "        self.output_attention = output_attention\n",
        "        self.use_attention = use_attention\n",
        "\n",
        "    def forward(self, x):\n",
        "        residual = x\n",
        "\n",
        "        out = self.conv1(x)\n",
        "        out = self.bn1(out)\n",
        "        out = self.relu(out)\n",
        "\n",
        "        out = self.conv2(out)\n",
        "        out = self.bn2(out)\n",
        "        out = self.relu(out)\n",
        "\n",
        "        out = self.conv3(out)\n",
        "        out = self.bn3(out)\n",
        "\n",
        "        if self.downsample is not None:\n",
        "            residual = self.downsample(x)\n",
        "\n",
        "        if self.use_attention:\n",
        "            out_ca = self.ca(out)\n",
        "            out = residual + out_ca * out\n",
        "        else:\n",
        "            out = residual + out\n",
        "            out_ca = []\n",
        "        out = self.relu(out)\n",
        "        if self.output_attention:\n",
        "            return out, out_ca\n",
        "        else:\n",
        "            return out"
      ]
    },
    {
      "cell_type": "markdown",
      "metadata": {
        "id": "1ziG1Kpfk7tR"
      },
      "source": [
        "### ResNet architecture with channel attention"
      ]
    },
    {
      "cell_type": "markdown",
      "source": [
        "The `ResNet` class initializes the ResNet architecture by defining the convolutional, batch normalization and pooling layers. The architecture of the ResNet is defined by the input parameters `block` and `layers`. The class has several methods, the `_make_layer` method creates the layers of the architecture, the `_init_params` method initializes the parameters of the layers, and the `featuremaps` method returns the feature maps of the input data. The architecture also includes an attention mechanism, which is controlled by the `use_attention` parameter. Additionally, the architecture includes a DiscriminatorConv layer, an AdaptiveAvgPool2d layer and a Linear layer."
      ],
      "metadata": {
        "id": "ReWkz7NjbNKE"
      }
    },
    {
      "cell_type": "code",
      "execution_count": null,
      "metadata": {
        "id": "XIlGuzqLNigi"
      },
      "outputs": [],
      "source": [
        "class ResNet(nn.Module):\n",
        "\n",
        "    def __init__(self, block, layers):\n",
        "        self.inplanes = 64\n",
        "        super().__init__()\n",
        "\n",
        "        self.conv1 = nn.Conv2d(3, 64, kernel_size=7, stride=2, padding=3, bias=False)\n",
        "        self.bn1 = nn.BatchNorm2d(64)\n",
        "        self.relu = nn.ReLU(inplace=True)\n",
        "        self.maxpool = nn.MaxPool2d(kernel_size=3, stride=2, padding=1)\n",
        "        self.layer1 = self._make_layer(block, 64, layers[0], use_attention=False)\n",
        "        self.layer2 = self._make_layer(block, 128, layers[1], stride=2, use_attention=False)\n",
        "        self.layer3 = self._make_layer(block, 256, layers[2], stride=2, use_attention=True)\n",
        "        self.layer4 = self._make_layer(block, 512, layers[3], stride=2, use_attention=True)\n",
        "        self.disc = DiscriminatorConv(512 * block.expansion)\n",
        "        self.avgpool = nn.AdaptiveAvgPool2d((1, 1))\n",
        "        self.fc = nn.Linear(512 * block.expansion, 1000)\n",
        "\n",
        "        # for m in self.modules():\n",
        "        #     if isinstance(m, nn.Conv2d):\n",
        "        #         nn.init.kaiming_normal_(m.weight, mode=\"fan_out\", nonlinearity=\"relu\")\n",
        "        #     elif isinstance(m, (nn.BatchNorm2d, nn.GroupNorm)):\n",
        "        #         nn.init.constant_(m.weight, 1)\n",
        "        #         nn.init.constant_(m.bias, 0)\n",
        "\n",
        "        self._init_params()\n",
        "\n",
        "\n",
        "    def _make_layer(self, block, planes, blocks, stride=1, use_attention=True):\n",
        "        downsample = None\n",
        "        if stride != 1 or self.inplanes != planes * block.expansion:\n",
        "            downsample = nn.Sequential(\n",
        "                nn.Conv2d(\n",
        "                    self.inplanes,\n",
        "                    planes * block.expansion,\n",
        "                    kernel_size=1,\n",
        "                    stride=stride,\n",
        "                    bias=False\n",
        "                ),\n",
        "                nn.BatchNorm2d(planes * block.expansion),\n",
        "            )\n",
        "\n",
        "        layers = []\n",
        "        layers.append(block(self.inplanes, planes, stride, downsample, use_attention=use_attention))\n",
        "        self.inplanes = planes * block.expansion\n",
        "        for i in range(1, blocks):\n",
        "            if i == blocks - 1:\n",
        "                layers.append(block(self.inplanes, planes, output_attention=True, use_attention=use_attention))\n",
        "            else:\n",
        "                layers.append(block(self.inplanes, planes, use_attention=use_attention))\n",
        "\n",
        "        return nn.Sequential(*layers)\n",
        "\n",
        "    def _init_params(self):\n",
        "        for m in self.modules():\n",
        "            if isinstance(m, nn.Conv2d):\n",
        "                nn.init.kaiming_normal_(\n",
        "                    m.weight, mode='fan_out', nonlinearity='relu'\n",
        "                )\n",
        "                if m.bias is not None:\n",
        "                    nn.init.constant_(m.bias, 0)\n",
        "            elif isinstance(m, nn.BatchNorm2d):\n",
        "                nn.init.constant_(m.weight, 1)\n",
        "                nn.init.constant_(m.bias, 0)\n",
        "            elif isinstance(m, nn.BatchNorm1d):\n",
        "                nn.init.constant_(m.weight, 1)\n",
        "                nn.init.constant_(m.bias, 0)\n",
        "            elif isinstance(m, nn.Linear):\n",
        "                nn.init.normal_(m.weight, 0, 0.01)\n",
        "                if m.bias is not None:\n",
        "                    nn.init.constant_(m.bias, 0)\n",
        "\n",
        "    def featuremaps(self, x):\n",
        "        x = self.conv1(x)\n",
        "        x = self.bn1(x)\n",
        "        x = self.relu(x)\n",
        "        x = self.maxpool(x)\n",
        "        x, out_ca1 = self.layer1(x)\n",
        "        x, out_ca2 = self.layer2(x)\n",
        "        x, out_ca3 = self.layer3(x)\n",
        "        x, out_ca4 = self.layer4(x)\n",
        "        return x, [out_ca1, out_ca2, out_ca3, out_ca4]\n",
        "\n",
        "    def predictions(self, x):\n",
        "        x = torch.flatten(x, 1)\n",
        "        x = self.fc(x)\n",
        "        return x\n",
        "\n",
        "    def forward(self, x, lambda_=0, gamma=0):\n",
        "        f, channel_attention = self.featuremaps(x)\n",
        "\n",
        "        # domain = self.disc(f, lambda_)\n",
        "        domain = self.disc(channel_attention[-1]*f*gamma + f*(1-gamma), lambda_)\n",
        "\n",
        "        v = self.avgpool(f)\n",
        "\n",
        "        out = self.predictions(v)\n",
        "        \n",
        "        return out, v, channel_attention, domain"
      ]
    },
    {
      "cell_type": "markdown",
      "metadata": {
        "id": "kEw6vzLLlEO4"
      },
      "source": [
        "### Get model function"
      ]
    },
    {
      "cell_type": "markdown",
      "source": [
        "The function `get_model` takes in three arguments: `resnet`, `pretrained` and `num_classes`. The function creates an instance of the ResNet model with a specific architecture (determined by the resnet argument) and layers configuration. The argument resnet can take one of the values 18, 34, 50, 101, 152. If the `pretrained` argument is set to `True`, the function loads the pre-trained weights of the model. The final fully connected layer of the model is then modified to have `num_classes` output neurons. The function returns the created model."
      ],
      "metadata": {
        "id": "rzUkqL2E6aLA"
      }
    },
    {
      "cell_type": "markdown",
      "source": [
        "In the project, the default version of ResNet with the `BasicBlock` and `layers =[2, 2, 2, 2]` was used consistently. However, the code for other versions of ResNet such as ResNet with `Bottleneck` and different number of layers were included for completeness."
      ],
      "metadata": {
        "id": "HLED1BZ-7akC"
      }
    },
    {
      "cell_type": "code",
      "execution_count": null,
      "metadata": {
        "id": "4eWYZrEWkYTT"
      },
      "outputs": [],
      "source": [
        "def get_model(resnet=18, pretrained=False, num_classes=20):\n",
        "  if resnet == 18:\n",
        "    model = ResNet(block=BasicBlock, layers=[2, 2, 2, 2])\n",
        "    weights = ResNet18_Weights.IMAGENET1K_V1\n",
        "  elif resnet == 34:\n",
        "    model = ResNet(block=BasicBlock, layers=[3, 4, 6, 3])\n",
        "    weights = ResNet34_Weights.IMAGENET1K_V1\n",
        "  elif resnet == 50:\n",
        "    model = ResNet(block=Bottleneck, layers=[3, 4, 6, 3])\n",
        "    weights = ResNet50_Weights.IMAGENET1K_V1\n",
        "  elif resnet == 101:\n",
        "    model = ResNet(block=Bottleneck, layers=[3, 4, 23, 3])\n",
        "    weights = ResNet101_Weights.IMAGENET1K_V1\n",
        "  elif resnet == 152:\n",
        "    model = ResNet(block=Bottleneck, layers=[3, 8, 36, 3])\n",
        "    weights = ResNet152_Weights.IMAGENET1K_V1\n",
        "  else:\n",
        "    print(\"Unable to identify the ResNet architecture\")\n",
        "    return\n",
        "\n",
        "  if pretrained:\n",
        "    model.load_state_dict(weights.get_state_dict(progress=True), strict=False)\n",
        "\n",
        "  model.fc = nn.Linear(model.fc.in_features, num_classes)\n",
        "\n",
        "  return model"
      ]
    },
    {
      "cell_type": "markdown",
      "metadata": {
        "id": "OpK-Bq6d1FnV"
      },
      "source": [
        "# Specify optimizer and scheduler"
      ]
    },
    {
      "cell_type": "markdown",
      "source": [
        "The `get_optimizer` function takes in a PyTorch model, a learning rate, weight decay, momentum, and an optimization algorithm as input parameters. It then creates an optimizer object based on the specified algorithm, and sets the learning rate, weight decay, and momentum accordingly. It returns the optimizer object.\n",
        "\n",
        "The `get_scheduler` function takes in an optimizer, the number of training epochs, and a learning rate scheduling algorithm as input parameters. It then creates a learning rate scheduler object based on the specified algorithm, and sets the number of training epochs accordingly. It returns the scheduler object.\n",
        "\n",
        "During the experiment, we always used the optimizer `Adam`, with a `learning rate= 5e-4`, `epoches=20` and the scheduler `cosine` for the learning rate schedule."
      ],
      "metadata": {
        "id": "KQ6S-A4I78S4"
      }
    },
    {
      "cell_type": "code",
      "execution_count": null,
      "metadata": {
        "id": "EMpc8dxrMmWc"
      },
      "outputs": [],
      "source": [
        "def get_optimizer(model, lr, wd=0, momentum=0, opt='Adam'):\n",
        "  if opt == 'Adam':\n",
        "    optimizer = torch.optim.Adam(model.parameters(), lr=lr)\n",
        "  elif opt == 'SGD':\n",
        "    optimizer = torch.optim.SGD(model.parameters(), lr=lr, weight_decay=wd, momentum=momentum)\n",
        "  \n",
        "  return optimizer"
      ]
    },
    {
      "cell_type": "code",
      "execution_count": null,
      "metadata": {
        "id": "npm-U0u-FtTR"
      },
      "outputs": [],
      "source": [
        "def get_scheduler(optimizer, epochs, sched='cosine'):\n",
        "  if sched == 'cosine':\n",
        "    scheduler = torch.optim.lr_scheduler.CosineAnnealingLR(optimizer, epochs)\n",
        "  \n",
        "  return scheduler"
      ]
    },
    {
      "cell_type": "markdown",
      "metadata": {
        "id": "S_I6N6U81MDA"
      },
      "source": [
        "# Train model"
      ]
    },
    {
      "cell_type": "markdown",
      "source": [
        "This code is defining a training step function for training a model on a dataset. The function takes in several parameters including the model, the training data loaders for the source and target datasets, the optimizer, and several weight parameters for different losses. The function then iterates over the source training data, and for each batch, it calculates several different losses:\n",
        "*   **Supervised loss:** It is calculated using the cross-entropy loss function on the output of the model for the source data and the corresponding labels.\n",
        "*   **Unsupervised pseudo loss:** TIt is calculated by applying a cross-entropy loss between the target dataset with the strong transformation and the pseudo labels generated from the output of the model on the target dataset with weak transformation, with the additional constraint of only considering samples with a high confidence level as determined by a threshold.\n",
        "*   **Domain attention consistency loss:** It is calculated using the attention maps generated by the model. The purpose of this loss is to minimize the distribution divergence of channel attention weights between\n",
        "each pair of source and target domains.\n",
        "*   **Compactness loss:** It encourages the target features to be close to the corresponding classification weight vectors. Essentially, the loss\n",
        "pulls together the target features and the classifier’s weight vectors to facilitate discriminative target feature learning.\n",
        "*   **Adversarial loss:**\n",
        "\n"
      ],
      "metadata": {
        "id": "CprgBSq1AVyI"
      }
    },
    {
      "cell_type": "code",
      "execution_count": null,
      "metadata": {
        "id": "DJAtlKKEFl5j"
      },
      "outputs": [],
      "source": [
        "def training_step(model, source_train_loader, target_train_loader, optimizer, \n",
        "                  pseudo=0., attn=0., comp=0., adv=0., device='cuda:0', show_img=False, ep=False):\n",
        "  \n",
        "  source_train_loader, source_train_loader_aug = source_train_loader\n",
        "  target_train_loader, target_train_loader_aug = target_train_loader\n",
        "\n",
        "  source_samples = 0.\n",
        "  target_samples = 0.\n",
        "  cumulative_ce_loss = 0.\n",
        "  cumulative_accuracy = 0.\n",
        "\n",
        "  weight_pseudo = pseudo\n",
        "  weight_attn = attn\n",
        "  weight_comp = comp\n",
        "  weight_adv = adv\n",
        "\n",
        "  ema_alpha = 0.999\n",
        "  tar_ca_last1 = torch.tensor(1.)\n",
        "  tar_ca_last2 = torch.tensor(1.)\n",
        "  src_ca_last1 = torch.tensor(1.)\n",
        "  src_ca_last2 = torch.tensor(1.)\n",
        "\n",
        "  conf_threshold = 0.95\n",
        "\n",
        "  mloss_source = torch.zeros(1)\n",
        "  mloss_pseudo = torch.zeros(1)\n",
        "  mloss_attn = torch.zeros(1)\n",
        "  mloss_comp = torch.zeros(1)\n",
        "  mloss_adv = torch.zeros(1)\n",
        "\n",
        "  if show_img:\n",
        "    mean = np.array([0.485, 0.456, 0.406]).reshape(1, 1, 3)\n",
        "    std = np.array([0.229, 0.224, 0.225]).reshape(1, 1, 3)\n",
        "  \n",
        "  target_iter = iter(target_train_loader)\n",
        "  target_iter_aug = iter(target_train_loader_aug)\n",
        "\n",
        "  # strictly needed if network contains layers which has different behaviours between train and test\n",
        "  model.train()\n",
        "\n",
        "  pbar = tqdm(zip(source_train_loader, source_train_loader_aug), total=len(source_train_loader))\n",
        "\n",
        "  epoch, epochs = ep\n",
        "  nb = len(source_train_loader)\n",
        "  max_iterations = nb * epochs\n",
        "\n",
        "  for i, ((inputs_source, targets_source), (inputs_source_aug, _)) in enumerate(pbar):\n",
        "    \n",
        "    # get target data. If the target iterator reaches the end, restart it\n",
        "    try:\n",
        "      inputs_target, _ = next(target_iter)\n",
        "      inputs_target_aug, _ = next(target_iter_aug)\n",
        "    except:\n",
        "      target_iter = iter(target_train_loader)\n",
        "      target_iter_aug = iter(target_train_loader_aug)\n",
        "\n",
        "      inputs_target, _ = next(target_iter)\n",
        "      inputs_target_aug, _ = next(target_iter_aug)\n",
        "\n",
        "    # input_weak = torch.cat([inputs_source, inputs_target], dim=0) \n",
        "    # input_strong = torch.cat([inputs_source_aug, inputs_target_aug], dim=0)\n",
        "\n",
        "    targets_domain = torch.cat(\n",
        "        (torch.zeros(inputs_source.shape[0]), torch.ones(inputs_target.shape[0]))\n",
        "    ).unsqueeze(dim=1)\n",
        "\n",
        "    # load data into device\n",
        "    inputs_source, inputs_target = inputs_source.to(device), inputs_target.to(device)\n",
        "    # input_weak, input_strong = input_weak.to(device), input_strong.to(device)\n",
        "    inputs_target_aug = inputs_target_aug.to(device)\n",
        "    targets_source, targets_domain = targets_source.to(device), targets_domain.to(device)\n",
        "\n",
        "\n",
        "    # -----------------------------------\n",
        "    # Supervised loss\n",
        "    # -----------------------------------\n",
        "\n",
        "    output_source, _, ca_source, _ = model(inputs_source)\n",
        "    loss_source = F.cross_entropy(output_source, targets_source)\n",
        "\n",
        "\n",
        "    # -----------------------------------\n",
        "    # Generate artificial label\n",
        "    # -----------------------------------\n",
        "\n",
        "    with torch.no_grad():\n",
        "      output_weak, _, _, _ = model(inputs_target)\n",
        "      max_prob, label_weak = F.softmax(output_weak, dim=1).max(dim=1)\n",
        "      mask_pseudo = (max_prob >= conf_threshold).float()\n",
        "\n",
        "\n",
        "    # -----------------------------------\n",
        "    # Unsupervised pseudo loss\n",
        "    # -----------------------------------\n",
        "    \n",
        "    loss_pseudo = torch.tensor(0.).to(device)\n",
        "\n",
        "    if pseudo:\n",
        "      output_strong, feat_strong, ca_strong, _ = model(inputs_target_aug)\n",
        "      loss_pseudo = F.cross_entropy(output_strong, label_weak, reduction='none')\n",
        "      loss_pseudo = (loss_pseudo * mask_pseudo).mean()\n",
        "\n",
        "    # -----------------------------------\n",
        "    # Domain attention consistency loss\n",
        "    # -----------------------------------\n",
        "\n",
        "    loss_attn = torch.tensor(0.).to(device)\n",
        "\n",
        "    if attn:\n",
        "      # DAC loss for the fourth residual block\n",
        "      mean_tar_ca1 = tar_ca_last1 * ema_alpha + (1. - ema_alpha) * torch.mean(ca_strong[-1], 0)\n",
        "      tar_ca_last1 = mean_tar_ca1.detach()\n",
        "\n",
        "      mean_src_ca1 = src_ca_last1 * ema_alpha + (1. - ema_alpha) * torch.mean(ca_source[-1], 0)\n",
        "      src_ca_last1 = mean_src_ca1.detach()\n",
        "\n",
        "      loss_attn += torch.mean(torch.abs(mean_src_ca1 - mean_tar_ca1))\n",
        "\n",
        "      # DAC loss for the third residual block\n",
        "      mean_tar_ca2 = tar_ca_last2 * ema_alpha + (1. - ema_alpha) * torch.mean(ca_strong[-2], 0)\n",
        "      tar_ca_last2 = mean_tar_ca2.detach()\n",
        "\n",
        "      mean_src_ca2 = src_ca_last2 * ema_alpha + (1. - ema_alpha) * torch.mean(ca_source[-2], 0)\n",
        "      src_ca_last2 = mean_src_ca2.detach()\n",
        "\n",
        "      loss_attn += torch.mean(torch.abs(mean_src_ca2 - mean_tar_ca2))\n",
        "\n",
        "\n",
        "    # -----------------------------------\n",
        "    # Class compactness loss\n",
        "    # -----------------------------------\n",
        "    \n",
        "    loss_comp = torch.tensor(0.).to(device)\n",
        "\n",
        "    if comp:\n",
        "      with torch.no_grad():\n",
        "        img_shape = inputs_target.shape\n",
        "\n",
        "        # enforce class compactness loss only on target samples that have consistent prediction under Guassian noise\n",
        "        noise = torch.randn(img_shape[0], img_shape[1], img_shape[2], img_shape[3]) * 0.15\n",
        "        input_noise = torch.flip(inputs_target, [3]) + noise.to(device)\n",
        "        output_noise, feat_noise, _, _ = model(input_noise)\n",
        "        max_prob, label_noise = F.softmax(output_noise, dim=1).max(1)\n",
        "        mask_noise = (max_prob >= conf_threshold).float()\n",
        "\n",
        "        # create mask to filter samples whose prediction is not consistent under Guassian noise\n",
        "        # or that under weak augmentation or noise where predicted with confidence below threshold\n",
        "        label_cons = (label_weak == label_noise).float()\n",
        "        mask_cons = mask_pseudo * mask_noise * label_cons\n",
        "\n",
        "        if mask_cons.sum() > 0: # check if there is at least one sample that satisfy the contraints\n",
        "          weight = model.fc.weight\n",
        "          # feat_strong has shape [60, 512, 1, 1] while weight[label_weak, :] has shape [60, 512]\n",
        "          # so squeeze feat_strong to shape [60, 512], removing unnecessary dimensions\n",
        "          # moreover, mask_cons has shape [60] thus unsqueeze to [60, 1] to have same number of dimensions as other two\n",
        "          diff = mask_cons.unsqueeze(dim=1) * (feat_strong.squeeze() - weight[label_weak, :])\n",
        "          loss_comp = weight_comp * torch.mean(diff * diff)\n",
        "\n",
        "\n",
        "    # -----------------------------------\n",
        "    # Adversarial loss\n",
        "    # -----------------------------------\n",
        "\n",
        "    loss_adv = torch.tensor(0.).to(device)\n",
        "    \n",
        "    if adv:\n",
        "      ni = i + nb * epoch\n",
        "\n",
        "      r = ni / max_iterations\n",
        "      gamma = 2 / (1 + math.exp(-10 * r)) - 1\n",
        "\n",
        "      _, _, _, domain_source = model(inputs_source, 0.01, gamma)\n",
        "      _, _, _, domain_target = model(inputs_target, 0.01, gamma)\n",
        "\n",
        "      pred_domain = torch.cat((domain_source, domain_target))\n",
        "      true_domain = torch.cat((torch.zeros(domain_source.shape), torch.ones(domain_target.shape))).to(device)\n",
        "\n",
        "      loss_adv = F.binary_cross_entropy_with_logits(pred_domain, true_domain)    \n",
        "\n",
        "\n",
        "    # -----------------------------------\n",
        "    # Backpropagation\n",
        "    # -----------------------------------\n",
        "\n",
        "    loss = loss_source + loss_pseudo * weight_pseudo + loss_attn * weight_attn + loss_comp * weight_comp + loss_adv * weight_adv\n",
        "\n",
        "    # backward pass\n",
        "    loss.backward()\n",
        "    \n",
        "    # update parameters\n",
        "    optimizer.step()\n",
        "    \n",
        "    # reset the optimizer\n",
        "    optimizer.zero_grad()\n",
        "\n",
        "    # print statistics\n",
        "    source_samples += inputs_source.shape[0]\n",
        "    target_samples += inputs_target.shape[0]\n",
        "    \n",
        "    cumulative_ce_loss += loss_source.item()\n",
        "    _, predicted = F.softmax(output_source, dim=1).max(dim=1)\n",
        "    cumulative_accuracy += predicted.eq(targets_source).sum().item()\n",
        "\n",
        "    mloss_source = (mloss_source * i + loss_source.item()) / (i + 1)\n",
        "    mloss_pseudo = (mloss_pseudo * i + loss_pseudo.item()) / (i + 1)\n",
        "    mloss_attn = (mloss_attn * i + loss_attn.item()) / (i + 1)\n",
        "    mloss_comp = (mloss_comp * i + loss_comp.item()) / (i + 1)\n",
        "    mloss_adv = (mloss_adv * i + loss_adv.item()) / (i + 1)\n",
        "    pbar.set_description(\"Source loss {} | Pseudo loss {} | Attn loss {} | Comp loss {} | Adv loss {}\".format(round(mloss_source.item(),4), round(mloss_pseudo.item(),4), round(mloss_attn.item(),4), round(mloss_comp.item(),4), round(mloss_adv.item(),4)))\n",
        "\n",
        "    if show_img and i < 3:\n",
        "      fig = plt.figure()\n",
        "      \n",
        "      ax1 = fig.add_subplot(1,4,1)\n",
        "      ax1.imshow(np.clip(inputs_source[0].permute(1,2,0).cpu() * std + mean, 0, 1))\n",
        "      ax2 = fig.add_subplot(1,4,2)\n",
        "      ax2.imshow(np.clip(inputs_source_aug[0].permute(1,2,0).cpu() * std + mean, 0, 1))\n",
        "      ax3 = fig.add_subplot(1,4,3)\n",
        "      ax3.imshow(np.clip(inputs_target[0].permute(1,2,0).cpu() * std + mean, 0, 1))\n",
        "      ax4 = fig.add_subplot(1,4,4)\n",
        "      ax4.imshow(np.clip(inputs_target_aug[0].permute(1,2,0).cpu() * std + mean, 0, 1))\n",
        "\n",
        "      [axi.set_axis_off() for axi in [ax1, ax2, ax3, ax4]]\n",
        "      plt.show()\n",
        "\n",
        "  return cumulative_ce_loss/source_samples, cumulative_accuracy/source_samples*100"
      ]
    },
    {
      "cell_type": "code",
      "execution_count": null,
      "metadata": {
        "id": "k1brqIylP764"
      },
      "outputs": [],
      "source": [
        "def test_step(model, target_test_loader, device='cuda:0'):\n",
        "  samples = 0.\n",
        "  cumulative_loss = 0.\n",
        "  cumulative_accuracy = 0.\n",
        "\n",
        "  # strictly needed if network contains layers which has different behaviours between train and test\n",
        "  model.eval()\n",
        "\n",
        "  with torch.no_grad():\n",
        "\n",
        "    for batch_idx, (inputs, targets) in enumerate(tqdm(target_test_loader)):\n",
        "\n",
        "      # load data into GPU\n",
        "      inputs = inputs.to(device)\n",
        "      targets = targets.to(device)\n",
        "        \n",
        "      # forward pass\n",
        "      output, _, _, _ = model(inputs)\n",
        "\n",
        "      # apply the loss\n",
        "      loss = F.cross_entropy(output, targets)\n",
        "\n",
        "      # print statistics\n",
        "      samples += inputs.shape[0]\n",
        "      cumulative_loss += loss.item() # Note: the .item() is needed to extract scalars from tensors\n",
        "      _, predicted = F.softmax(output, dim=1).max(dim=1)\n",
        "      cumulative_accuracy += predicted.eq(targets).sum().item()\n",
        "\n",
        "  return cumulative_loss/samples, cumulative_accuracy/samples*100"
      ]
    },
    {
      "cell_type": "markdown",
      "metadata": {
        "id": "J359b2Q73hhN"
      },
      "source": [
        "# Execute everything"
      ]
    },
    {
      "cell_type": "code",
      "execution_count": null,
      "metadata": {
        "id": "9WmZKxapc4sU"
      },
      "outputs": [],
      "source": [
        "# Initialize random number generator (RNG) seeds https://pytorch.org/docs/stable/notes/randomness.html\n",
        "# cudnn seed 0 settings are slower and more reproducible, else faster and less reproducible\n",
        "seed = 0\n",
        "\n",
        "random.seed(seed)\n",
        "np.random.seed(seed)\n",
        "torch.manual_seed(seed)\n",
        "cudnn.benchmark, cudnn.deterministic = (False, True)"
      ]
    },
    {
      "cell_type": "code",
      "execution_count": null,
      "metadata": {
        "id": "YiR2HcGtM_Am"
      },
      "outputs": [],
      "source": [
        "batch_size = 60\n",
        "device = 'cuda:0' if torch.cuda.is_available() else 'cpu'\n",
        "learning_rate = 5e-4\n",
        "epochs = 20\n",
        "\n",
        "prod_root = 'adaptiope_small/product_images'\n",
        "real_root = 'adaptiope_small/real_life'\n",
        "\n",
        "dataloaders_prod, dataloaders_prod_aug, dataloaders_real, dataloaders_real_aug= get_data(batch_size, prod_root, real_root)\n",
        "\n",
        "train_loader_prod, test_loader_prod = dataloaders_prod\n",
        "train_loader_prod_aug, test_loader_prod_aug = dataloaders_prod_aug\n",
        "\n",
        "train_loader_real, test_loader_real = dataloaders_real\n",
        "train_loader_real_aug, test_loader_real_aug = dataloaders_real_aug\n",
        "\n",
        "model = get_model(pretrained=True).to(device)\n",
        "\n",
        "# model.load_state_dict(torch.load('./model_weights.pt'))\n",
        "\n",
        "optimizer = get_optimizer(model, learning_rate)\n",
        "\n",
        "scheduler = get_scheduler(optimizer, epochs)"
      ]
    },
    {
      "cell_type": "code",
      "execution_count": null,
      "metadata": {
        "id": "u9P-pxqnw5T7"
      },
      "outputs": [],
      "source": [
        "history = defaultdict(list)\n",
        "best_accuracy = 0\n",
        "\n",
        "for e in range(epochs):\n",
        "  print('Epoch: {}/{}'.format(e+1, epochs))\n",
        "  train_ce_loss, train_accuracy = training_step(\n",
        "    model=model,\n",
        "    # source_train_loader=(train_loader_prod, train_loader_prod_aug),\n",
        "    # target_train_loader=(train_loader_real, train_loader_real_aug),\n",
        "    source_train_loader=(train_loader_real, train_loader_real_aug),\n",
        "    target_train_loader=(train_loader_prod, train_loader_prod_aug),\n",
        "    optimizer=optimizer,\n",
        "    pseudo=0.3, # 1.,\n",
        "    attn=0., # 0.3,\n",
        "    comp=0., # 0.1,\n",
        "    adv=1., # 0.3,\n",
        "    device=device, \n",
        "    show_img=False,\n",
        "    ep=[e, epochs]\n",
        "  )\n",
        "  \n",
        "  scheduler.step()\n",
        "  \n",
        "  test_loss, test_accuracy = test_step(\n",
        "    model=model, \n",
        "    target_test_loader=test_loader_real, \n",
        "    device=device\n",
        "  )\n",
        "  if test_accuracy > best_accuracy:\n",
        "    # torch.save(model.state_dict(), './model_weights.pt')\n",
        "    best_accuracy = test_accuracy\n",
        "\n",
        "  history['train_acc'].append(train_accuracy)\n",
        "  history['train_loss'].append(train_ce_loss)\n",
        "  history['test_acc'].append(test_accuracy)\n",
        "  history['test_loss'].append(test_loss)\n",
        "  # print('Train: CE loss {:.5f}, Accuracy {:.2f}'.format(train_ce_loss, train_accuracy))\n",
        "  print('Test: CE loss {:.5f}, Accuracy {:.2f}'.format(test_loss, test_accuracy))\n",
        "  print('-----------------------------------------------------')"
      ]
    },
    {
      "cell_type": "code",
      "execution_count": null,
      "metadata": {
        "id": "6Cl2k9rzrwCB"
      },
      "outputs": [],
      "source": [
        "plt.plot(history['train_acc'], label='train accuracy')\n",
        "plt.plot(history['test_acc'], label='test accuracy')\n",
        "plt.title('Training history')\n",
        "plt.ylabel('Accuracy')\n",
        "plt.xlabel('Epoch')\n",
        "plt.legend()"
      ]
    },
    {
      "cell_type": "markdown",
      "metadata": {
        "id": "LalwBzQlx1AY"
      },
      "source": [
        "# Accuracy notes\n",
        "\n"
      ]
    },
    {
      "cell_type": "markdown",
      "metadata": {
        "id": "pcBgjrkvc7UY"
      },
      "source": [
        "*Running experiments with seed = 0, pretrained = True, batch size = 60, optimizer = Adam, learning_rate = 5e-4, scheduler = cosine and epochs = 20.*"
      ]
    },
    {
      "cell_type": "markdown",
      "metadata": {
        "id": "5rs9aRjQsVud"
      },
      "source": [
        "### Prod &rarr; Real\n",
        "\n",
        "*   Baseline (source loss): 64.16 (last) 67.17 (best)\n",
        "\n",
        "---\n",
        "\n",
        "*   DA (source loss + pseudo loss): 73.68 (last) 74.44 (best)\n",
        "*   DA (source loss + pseudo loss + attn loss): 75.69 (last) 75.69 (best)\n",
        "*   DA (source loss + pseudo loss + attn loss + comp loss): 76.44 (last) 77.69 (best)\n",
        "\n",
        "---\n",
        "\n",
        "*   DA (source loss + adv loss): 66.92 (last) 66.92 (best)\n",
        "*   DA (source loss + gamma-adv loss): 67.17 (last) 70.18 (best)\n",
        "*   DA (source loss + adv-attn loss): 64.16 (last) 64.16 (best)\n",
        "*   DA (source loss + gammas-adv-attn loss): 69.17 (last) 71.93 (best)\n",
        "*   DA (source loss + 0.1*pseudo loss + adv loss): 75.69 (last) 76.19 (best)\n",
        "*   DA (source loss + 0.1*pseudo loss + gamma-adv loss): 62.91 (last) 64.41 (best)\n",
        "*   DA (source loss + 0.1*pseudo loss + adv-attn loss): 77.94 (last) 77.94 (best)\n",
        "*   DA (source loss + 0.1*pseudo loss + gammas-adv-attn loss): 73.43 (last) 75.19 (best)"
      ]
    },
    {
      "cell_type": "markdown",
      "source": [
        "![Prod2Real.png](data:image/png;base64,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)"
      ],
      "metadata": {
        "id": "idRKohW3vjU8"
      }
    },
    {
      "cell_type": "markdown",
      "source": [
        "### Real &rarr; Prod\n",
        "\n",
        "*   Baseline (source loss): 87.47 (last) 87.47 (best)\n",
        "\n",
        "---\n",
        "\n",
        "\n",
        "*   DA (source loss + pseudo loss): 88.22 (last) 89.22 (best)\n",
        "*   DA (source loss + pseudo loss + attn loss): 86.97 (last) 88.97 (best)\n",
        "*   DA (source loss + pseudo loss + attn loss + comp loss): 84.96 (last) 85.21 (best)\n",
        "\n",
        "---\n",
        "\n",
        "*   DA (source loss + adv loss): 87.97 (last) 89.72 (best)\n",
        "*   DA (source loss + gamma-adv loss): 87.47 (last) 87.47 (best)\n",
        "*   DA (source loss + adv-attn loss): 88.72 (last) 89.72 (best)\n",
        "*   DA (source loss + gammas-adv-attn loss): 86.72 (last) 87.97 (best)\n",
        "*   DA (source loss + 0.1*pseudo loss + adv loss): 89.97 (last) 89.97 (best)\n",
        "*   DA (source loss + 0.1*pseudo loss + gamma-adv loss): 86.97 (last) 89.22 (best)\n",
        "*   DA (source loss + 0.1*pseudo loss + adv-attn loss): 89.22 (last) 90.23 (best)\n",
        "*   DA (source loss + 0.1*pseudo loss + gammas-adv-attn loss): 88.47 (last) 88.47 (best)"
      ],
      "metadata": {
        "id": "mFOlhz21wVKl"
      }
    },
    {
      "cell_type": "markdown",
      "source": [
        "![Real2Prod.png](data:image/png;base64,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)"
      ],
      "metadata": {
        "id": "uqJ-_7WrvnEG"
      }
    }
  ],
  "metadata": {
    "accelerator": "GPU",
    "colab": {
      "provenance": []
    },
    "gpuClass": "standard",
    "kernelspec": {
      "display_name": "Python 3",
      "name": "python3"
    },
    "language_info": {
      "name": "python"
    }
  },
  "nbformat": 4,
  "nbformat_minor": 0
}