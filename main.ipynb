{
  "nbformat": 4,
  "nbformat_minor": 0,
  "metadata": {
    "colab": {
      "name": "main.ipynb",
      "provenance": [],
      "collapsed_sections": [],
      "include_colab_link": true
    },
    "kernelspec": {
      "name": "python3",
      "display_name": "Python 3"
    },
    "language_info": {
      "name": "python"
    }
  },
  "cells": [
    {
      "cell_type": "markdown",
      "metadata": {
        "id": "view-in-github",
        "colab_type": "text"
      },
      "source": [
        "<a href=\"https://colab.research.google.com/github/davidemichelon11/DL_Assignment/blob/main/main.ipynb\" target=\"_parent\"><img src=\"https://colab.research.google.com/assets/colab-badge.svg\" alt=\"Open In Colab\"/></a>"
      ]
    },
    {
      "cell_type": "code",
      "execution_count": null,
      "metadata": {
        "id": "kmvgompPO1Wh",
        "colab": {
          "base_uri": "https://localhost:8080/"
        },
        "outputId": "24438e9d-007c-4a5a-9190-7a087bec93c0"
      },
      "outputs": [
        {
          "output_type": "stream",
          "name": "stdout",
          "text": [
            "Drive already mounted at /content/drive; to attempt to forcibly remount, call drive.mount(\"/content/drive\", force_remount=True).\n"
          ]
        }
      ],
      "source": [
        "import os.path\n",
        "import tensorflow as tf\n",
        "from google.colab import drive\n",
        "from os import path\n",
        "\n",
        "drive.mount('/content/drive')\n",
        "\n",
        "if not path.isdir('/content/Adaptiope'):\n",
        "  ! unzip drive/My\\ Drive/Adaptiope.zip > /dev/null\n",
        "\n"
      ]
    },
    {
      "cell_type": "code",
      "source": [
        "for i in range(10,99):\n",
        "  img = tf.keras.preprocessing.image.load_img('/content/Adaptiope/real_life/baseball bat/baseball bat_0'+str(i)+'.jpg')\n",
        "  print(img.size)\n",
        "  img = img.resize((1800, 1800))\n",
        "  print(img.size)\n",
        "\n",
        "\n",
        "\n",
        "\n",
        "# extract 20 images\n",
        "\n",
        "\n",
        "## PRE-PROCESSING: augumentation, resize, cropping (serve?)\n",
        "\n"
      ],
      "metadata": {
        "id": "EDwc0JZ5Wqx4",
        "colab": {
          "base_uri": "https://localhost:8080/"
        },
        "outputId": "7c8f43be-b383-4c49-9c24-8ba51dc167a6"
      },
      "execution_count": null,
      "outputs": [
        {
          "output_type": "stream",
          "name": "stdout",
          "text": [
            "(986, 2028)\n",
            "(1800, 1800)\n",
            "(1224, 1632)\n",
            "(1800, 1800)\n",
            "(1224, 1632)\n",
            "(1800, 1800)\n",
            "(1060, 1885)\n",
            "(1800, 1800)\n",
            "(1200, 1600)\n",
            "(1800, 1800)\n",
            "(1224, 1632)\n",
            "(1800, 1800)\n",
            "(1224, 1632)\n",
            "(1800, 1800)\n",
            "(1224, 1632)\n",
            "(1800, 1800)\n",
            "(1063, 1879)\n",
            "(1800, 1800)\n",
            "(1200, 1600)\n",
            "(1800, 1800)\n",
            "(1224, 1632)\n",
            "(1800, 1800)\n",
            "(1060, 1885)\n",
            "(1800, 1800)\n",
            "(1224, 1632)\n",
            "(1800, 1800)\n",
            "(1885, 1060)\n",
            "(1800, 1800)\n",
            "(1885, 1060)\n",
            "(1800, 1800)\n",
            "(1083, 1845)\n",
            "(1800, 1800)\n",
            "(1885, 1060)\n",
            "(1800, 1800)\n",
            "(1632, 1224)\n",
            "(1800, 1800)\n",
            "(1224, 1632)\n",
            "(1800, 1800)\n",
            "(1060, 1613)\n",
            "(1800, 1800)\n",
            "(1885, 1060)\n",
            "(1800, 1800)\n",
            "(1885, 1060)\n",
            "(1800, 1800)\n",
            "(1632, 1224)\n",
            "(1800, 1800)\n",
            "(1060, 1885)\n",
            "(1800, 1800)\n",
            "(1060, 1885)\n",
            "(1800, 1800)\n",
            "(1224, 1632)\n",
            "(1800, 1800)\n",
            "(1224, 1632)\n",
            "(1800, 1800)\n",
            "(1885, 1060)\n",
            "(1800, 1800)\n",
            "(1885, 1060)\n",
            "(1800, 1800)\n",
            "(1118, 1223)\n",
            "(1800, 1800)\n",
            "(1632, 1078)\n",
            "(1800, 1800)\n",
            "(1136, 1759)\n",
            "(1800, 1800)\n",
            "(1224, 1632)\n",
            "(1800, 1800)\n",
            "(1632, 652)\n",
            "(1800, 1800)\n",
            "(1224, 1632)\n",
            "(1800, 1800)\n",
            "(1224, 1632)\n",
            "(1800, 1800)\n",
            "(1224, 1632)\n",
            "(1800, 1800)\n",
            "(1632, 1224)\n",
            "(1800, 1800)\n",
            "(986, 2028)\n",
            "(1800, 1800)\n",
            "(1885, 1060)\n",
            "(1800, 1800)\n",
            "(1224, 1632)\n",
            "(1800, 1800)\n",
            "(1632, 1224)\n",
            "(1800, 1800)\n",
            "(1885, 1060)\n",
            "(1800, 1800)\n",
            "(1224, 1632)\n",
            "(1800, 1800)\n",
            "(1885, 1060)\n",
            "(1800, 1800)\n",
            "(1224, 1632)\n",
            "(1800, 1800)\n",
            "(1224, 1632)\n",
            "(1800, 1800)\n",
            "(1799, 1111)\n",
            "(1800, 1800)\n",
            "(1224, 1632)\n",
            "(1800, 1800)\n",
            "(1885, 1060)\n",
            "(1800, 1800)\n",
            "(1632, 1224)\n",
            "(1800, 1800)\n",
            "(1632, 1224)\n",
            "(1800, 1800)\n",
            "(587, 3403)\n",
            "(1800, 1800)\n",
            "(1060, 1885)\n",
            "(1800, 1800)\n",
            "(1885, 1060)\n",
            "(1800, 1800)\n",
            "(690, 501)\n",
            "(1800, 1800)\n",
            "(1632, 1224)\n",
            "(1800, 1800)\n",
            "(1224, 1632)\n",
            "(1800, 1800)\n",
            "(1632, 1224)\n",
            "(1800, 1800)\n",
            "(1632, 1224)\n",
            "(1800, 1800)\n",
            "(1632, 576)\n",
            "(1800, 1800)\n",
            "(1487, 958)\n",
            "(1800, 1800)\n",
            "(1224, 1632)\n",
            "(1800, 1800)\n",
            "(479, 1509)\n",
            "(1800, 1800)\n",
            "(1632, 1224)\n",
            "(1800, 1800)\n",
            "(1060, 1885)\n",
            "(1800, 1800)\n",
            "(1224, 1632)\n",
            "(1800, 1800)\n",
            "(1514, 882)\n",
            "(1800, 1800)\n",
            "(1063, 1880)\n",
            "(1800, 1800)\n",
            "(1885, 1060)\n",
            "(1800, 1800)\n",
            "(1057, 781)\n",
            "(1800, 1800)\n",
            "(1885, 1060)\n",
            "(1800, 1800)\n",
            "(1632, 1224)\n",
            "(1800, 1800)\n",
            "(1060, 1885)\n",
            "(1800, 1800)\n",
            "(1224, 1632)\n",
            "(1800, 1800)\n",
            "(720, 1280)\n",
            "(1800, 1800)\n",
            "(1224, 1632)\n",
            "(1800, 1800)\n",
            "(1224, 1632)\n",
            "(1800, 1800)\n",
            "(1224, 1632)\n",
            "(1800, 1800)\n",
            "(900, 1600)\n",
            "(1800, 1800)\n",
            "(960, 1280)\n",
            "(1800, 1800)\n",
            "(1060, 1885)\n",
            "(1800, 1800)\n",
            "(1224, 1632)\n",
            "(1800, 1800)\n",
            "(1632, 1224)\n",
            "(1800, 1800)\n",
            "(1632, 1224)\n",
            "(1800, 1800)\n",
            "(1885, 1060)\n",
            "(1800, 1800)\n",
            "(1224, 1632)\n",
            "(1800, 1800)\n",
            "(1632, 1224)\n",
            "(1800, 1800)\n",
            "(681, 1632)\n",
            "(1800, 1800)\n"
          ]
        }
      ]
    },
    {
      "cell_type": "code",
      "source": [
        ""
      ],
      "metadata": {
        "id": "FCi-fk2NL-9w"
      },
      "execution_count": null,
      "outputs": []
    },
    {
      "cell_type": "code",
      "source": [
        "# oiiiiiiii"
      ],
      "metadata": {
        "id": "lpjv5xvkLyy8"
      },
      "execution_count": null,
      "outputs": []
    }
  ]
}