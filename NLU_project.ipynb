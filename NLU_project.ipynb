{
  "cells": [
    {
      "cell_type": "markdown",
      "metadata": {
        "id": "view-in-github",
        "colab_type": "text"
      },
      "source": [
        "<a href=\"https://colab.research.google.com/github/davidemichelon11/DL_Assignment/blob/main/NLU_project.ipynb\" target=\"_parent\"><img src=\"https://colab.research.google.com/assets/colab-badge.svg\" alt=\"Open In Colab\"/></a>"
      ]
    },
    {
      "cell_type": "code",
      "execution_count": null,
      "metadata": {
        "id": "dfoDANvvOpeO"
      },
      "outputs": [],
      "source": [
        "import nltk\n",
        "import numpy as np\n",
        "from nltk.corpus import movie_reviews\n",
        "from nltk.corpus import subjectivity\n",
        "\n",
        "nltk.download('punkt')\n",
        "nltk.download('vader_lexicon' )\n",
        "nltk.download('subjectivity')"
      ]
    },
    {
      "cell_type": "code",
      "execution_count": 2,
      "metadata": {
        "id": "hDlPJeFxfzpH"
      },
      "outputs": [],
      "source": [
        "from sklearn.feature_extraction.text import CountVectorizer\n",
        "from sklearn.naive_bayes import MultinomialNB\n",
        "from sklearn.model_selection import StratifiedKFold\n",
        "from sklearn.model_selection import cross_validate\n",
        "from sklearn.metrics import classification_report\n",
        "from sklearn.model_selection import train_test_split\n",
        "from sklearn import svm"
      ]
    },
    {
      "cell_type": "code",
      "execution_count": null,
      "metadata": {
        "id": "1DyA5ZMoGjsv"
      },
      "outputs": [],
      "source": [
        "import spacy\n",
        "spacy.cli.download('en_core_web_lg')\n",
        "nlp = spacy.load('en_core_web_lg')"
      ]
    },
    {
      "cell_type": "code",
      "execution_count": 4,
      "metadata": {
        "id": "KCS54YCW2vdT"
      },
      "outputs": [],
      "source": [
        "def doc2string(doc):\n",
        "  return \" \".join([w for sent in doc for w in sent])\n",
        "\n",
        "def sent2string(sent):\n",
        "  return \" \".join([w for w in sent])"
      ]
    },
    {
      "cell_type": "code",
      "execution_count": null,
      "metadata": {
        "id": "EI38_yFDSR6s"
      },
      "outputs": [],
      "source": [
        "nltk.download('stopwords')\n",
        "\n",
        "import unicodedata\n",
        "import re\n",
        "\n",
        "from nltk.corpus import stopwords\n",
        "from nltk.tokenize import word_tokenize\n",
        "from string import punctuation\n",
        "\n",
        "stop_words = stopwords.words(\"english\")\n",
        "\n",
        "def unicodeToAscii(s):\n",
        "  return ''.join(\n",
        "    c for c in unicodedata.normalize('NFD', s)\n",
        "    if unicodedata.category(c) != 'Mn'\n",
        "  )\n",
        "\n",
        "def normalizeString(s):\n",
        "  text_tokens = word_tokenize(s)\n",
        "  s = [word for word in text_tokens if not word in stop_words and not word in punctuation]\n",
        "  s = unicodeToAscii(sent2string(s).lower().strip())\n",
        "  s = re.sub(r\"([.!?])\", r\" \\1\", s)\n",
        "  s = re.sub(r\"[^a-zA-Z.!?]+\", r\" \", s)\n",
        "  return s"
      ]
    },
    {
      "cell_type": "code",
      "execution_count": 6,
      "metadata": {
        "id": "1yfWeEvbJLeg"
      },
      "outputs": [],
      "source": [
        "subj_docs = [(sent, 'subj') for sent in subjectivity.sents(categories='subj')]\n",
        "obj_docs = [(sent, 'obj') for sent in subjectivity.sents(categories='obj')]\n",
        "\n",
        "corpus_sub = [normalizeString(sent2string(d[0])) for d in subj_docs] + [normalizeString(sent2string(d[0])) for d in obj_docs]\n",
        "\n",
        "labels_sub = np.array(['subj'] * len(subj_docs) + ['obj'] * len(obj_docs))\n",
        "train_samples_sub, test_samples_sub, train_labels_sub, test_labels_sub = train_test_split(corpus_sub, labels_sub, test_size=0.3)"
      ]
    },
    {
      "cell_type": "markdown",
      "metadata": {
        "id": "j8oBaoSAM_HW"
      },
      "source": [
        "\n",
        "**Baselines for subjectivity/objectivity detection**\n",
        "\n",
        "Model: *Support Vector Machine*"
      ]
    },
    {
      "cell_type": "code",
      "execution_count": 7,
      "metadata": {
        "colab": {
          "base_uri": "https://localhost:8080/"
        },
        "id": "lDE_J5Wjx1V3",
        "outputId": "4c925231-1ab4-449d-f175-3fd9753b7399"
      },
      "outputs": [
        {
          "output_type": "stream",
          "name": "stdout",
          "text": [
            "              precision    recall  f1-score   support\n",
            "\n",
            "         obj      0.877     0.880     0.878      1512\n",
            "        subj      0.877     0.874     0.876      1488\n",
            "\n",
            "    accuracy                          0.877      3000\n",
            "   macro avg      0.877     0.877     0.877      3000\n",
            "weighted avg      0.877     0.877     0.877      3000\n",
            "\n"
          ]
        }
      ],
      "source": [
        "# SVM for subj/obj detection\n",
        "classifier_SVM_subj = svm.SVC()\n",
        "vectorizer_sub = CountVectorizer()\n",
        "\n",
        "vectors = vectorizer_sub.fit_transform(train_samples_sub + test_samples_sub)\n",
        "\n",
        "#SVM\n",
        "classifier_SVM_subj.fit(vectors[:len(train_samples_sub)], train_labels_sub)\n",
        "labels_pred_SVM = classifier_SVM_subj.predict(vectors[len(train_labels_sub):])\n",
        "print(classification_report(test_labels_sub, labels_pred_SVM, digits=3))"
      ]
    },
    {
      "cell_type": "markdown",
      "metadata": {
        "id": "IhxZwaOvaBcl"
      },
      "source": [
        "**Baselines for Seniment Analysis**\n",
        "\n",
        "1.   *SVM with objective sentences*\n",
        "2.   *SVM without objective sentences*\n",
        "3.   *Using VADER on complete review*\n",
        "4.   *Using VADER analyze each sentence*\n",
        "\n",
        "\n"
      ]
    },
    {
      "cell_type": "code",
      "execution_count": null,
      "metadata": {
        "id": "NGeoX7znxAbV"
      },
      "outputs": [],
      "source": [
        "nltk.download('movie_reviews')\n",
        "mr = movie_reviews\n",
        "neg = mr.paras(categories='neg')\n",
        "pos = mr.paras(categories='pos')"
      ]
    },
    {
      "cell_type": "code",
      "execution_count": 9,
      "metadata": {
        "id": "ewUNWUOvKXPy"
      },
      "outputs": [],
      "source": [
        "vectorizer_sa = CountVectorizer()\n",
        "classifier_sa = svm.SVC()\n",
        "\n",
        "#each element is the review converted to string\n",
        "corpus_sa = [normalizeString(doc2string(p)) for p in pos] + [normalizeString(doc2string(n)) for n in neg]\n",
        "\n",
        "labels_sa = np.array([0] * len(pos) + [1] * len(neg))\n",
        "train_samples_sa, test_samples_sa, train_labels_sa, test_labels_sa = train_test_split(corpus_sa, labels_sa, test_size=0.1)"
      ]
    },
    {
      "cell_type": "code",
      "execution_count": 48,
      "metadata": {
        "colab": {
          "base_uri": "https://localhost:8080/"
        },
        "id": "Cnx3fdGhcYKX",
        "outputId": "e556d09b-ecb0-4039-fb47-fbdf8e086c00"
      },
      "outputs": [
        {
          "output_type": "stream",
          "name": "stdout",
          "text": [
            "              precision    recall  f1-score   support\n",
            "\n",
            "           0      0.828     0.804     0.816       102\n",
            "           1      0.802     0.827     0.814        98\n",
            "\n",
            "    accuracy                          0.815       200\n",
            "   macro avg      0.815     0.815     0.815       200\n",
            "weighted avg      0.815     0.815     0.815       200\n",
            "\n"
          ]
        }
      ],
      "source": [
        "#SVM with objective sentences\n",
        "vectors = vectorizer_sa.fit_transform(train_samples_sa + test_samples_sa)\n",
        "classifier_sa.fit(vectors[:len(train_samples_sa)], train_labels_sa)\n",
        "labels_pred = classifier_sa.predict(vectors[len(train_labels_sa):])\n",
        "\n",
        "print(classification_report(test_labels_sa, labels_pred, digits=3))"
      ]
    },
    {
      "cell_type": "code",
      "execution_count": 11,
      "metadata": {
        "id": "i0fw_ujaMF8V"
      },
      "outputs": [],
      "source": [
        "def remove_obj_sentences(reviews, vectorizer_sub):\n",
        "  new_list = []\n",
        "  for rev in reviews:\n",
        "    new_rev = []\n",
        "    for s in rev:\n",
        "      vector = vectorizer_sub.transform([sent2string(s)]).toarray()\n",
        "      if classifier_SVM_subj.predict(vector) == ['subj']: \n",
        "        new_rev.append(s)\n",
        "    new_list.append(new_rev)\n",
        "  return new_list"
      ]
    },
    {
      "cell_type": "code",
      "execution_count": 47,
      "metadata": {
        "colab": {
          "base_uri": "https://localhost:8080/"
        },
        "id": "vLGRR3-Q7nuS",
        "outputId": "d8a58ea1-209f-473a-a43c-71d69db233c3"
      },
      "outputs": [
        {
          "output_type": "stream",
          "name": "stdout",
          "text": [
            "              precision    recall  f1-score   support\n",
            "\n",
            "           0      0.850     0.832     0.841       197\n",
            "           1      0.841     0.857     0.849       203\n",
            "\n",
            "    accuracy                          0.845       400\n",
            "   macro avg      0.845     0.845     0.845       400\n",
            "weighted avg      0.845     0.845     0.845       400\n",
            "\n"
          ]
        }
      ],
      "source": [
        "# For each review, remove obj sentences and compute the SVM\n",
        "vectorizer_sa_subj = CountVectorizer()\n",
        "classifier_SVM_subj_2 = svm.SVC()\n",
        "\n",
        "new_pos = remove_obj_sentences(pos, vectorizer_sub)\n",
        "new_neg = remove_obj_sentences(neg, vectorizer_sub)\n",
        "\n",
        "corpus_sa_subj = [normalizeString(doc2string(p)) for p in new_pos] + [normalizeString(doc2string(n)) for n in new_neg]\n",
        "\n",
        "labels_sa_subj = np.array([0] * len(new_pos) + [1] * len(new_neg))\n",
        "train_samples_, test_samples_, train_labels_, test_labels_ = train_test_split(corpus_sa_subj, labels_sa_subj, test_size=0.2)\n",
        "\n",
        "vectors_ = vectorizer_sa_subj.fit_transform(train_samples_ + test_samples_)\n",
        "classifier_SVM_subj_2.fit(vectors_[:len(train_samples_)], train_labels_)\n",
        "labels_pred_ = classifier_SVM_subj_2.predict(vectors_[len(train_labels_):])\n",
        "\n",
        "print(classification_report(test_labels_, labels_pred_, digits=3))"
      ]
    },
    {
      "cell_type": "markdown",
      "metadata": {
        "id": "gAm4UxVFiu4F"
      },
      "source": [
        "**VADER Baseline**"
      ]
    },
    {
      "cell_type": "code",
      "execution_count": 13,
      "metadata": {
        "id": "6f80ZdAHf5gU"
      },
      "outputs": [],
      "source": [
        "from nltk.sentiment.vader import SentimentIntensityAnalyzer, VaderConstants"
      ]
    },
    {
      "cell_type": "code",
      "execution_count": 14,
      "metadata": {
        "colab": {
          "base_uri": "https://localhost:8080/"
        },
        "id": "EPUcrVFXkblr",
        "outputId": "afc8ea41-b4ea-4ab4-a736-6482ffe38e18"
      },
      "outputs": [
        {
          "output_type": "stream",
          "name": "stdout",
          "text": [
            "              precision    recall  f1-score   support\n",
            "\n",
            "           0      0.583     0.842     0.689      1000\n",
            "           1      0.715     0.397     0.511      1000\n",
            "\n",
            "    accuracy                          0.620      2000\n",
            "   macro avg      0.649     0.619     0.600      2000\n",
            "weighted avg      0.649     0.620     0.600      2000\n",
            "\n"
          ]
        }
      ],
      "source": [
        "# Analyse complete review\n",
        "analyzer = SentimentIntensityAnalyzer()\n",
        "labels_vader = np.array([0] * len(neg) + [1] * len(pos))\n",
        "prediction_val = [analyzer.polarity_scores(doc2string(v)) for v in (pos + neg)]\n",
        "prediction_labels = [0 if p['pos'] > p['neg'] else 1 for p in prediction_val]\n",
        "\n",
        "print(classification_report(labels_sa, prediction_labels, digits=3))"
      ]
    },
    {
      "cell_type": "code",
      "execution_count": 15,
      "metadata": {
        "colab": {
          "base_uri": "https://localhost:8080/"
        },
        "id": "JGLM9GGPSr4h",
        "outputId": "f9f984d1-76a1-47a5-f437-d5c627aa68b2"
      },
      "outputs": [
        {
          "output_type": "stream",
          "name": "stdout",
          "text": [
            "              precision    recall  f1-score   support\n",
            "\n",
            "           0      0.698     0.500     0.583      1000\n",
            "           1      0.611     0.784     0.687      1000\n",
            "\n",
            "    accuracy                          0.642      2000\n",
            "   macro avg      0.654     0.642     0.635      2000\n",
            "weighted avg      0.654     0.642     0.635      2000\n",
            "\n",
            "              precision    recall  f1-score   support\n",
            "\n",
            "           0      0.602     0.843     0.702      1000\n",
            "           1      0.738     0.442     0.553      1000\n",
            "\n",
            "    accuracy                          0.642      2000\n",
            "   macro avg      0.670     0.642     0.628      2000\n",
            "weighted avg      0.670     0.642     0.628      2000\n",
            "\n"
          ]
        }
      ],
      "source": [
        "# Analyse each sentence of review, sum sentences contribution as 1\n",
        "prediction_labels = []\n",
        "\n",
        "for rev in (pos+neg):\n",
        "  pos_ = 0\n",
        "  neg_ = 0\n",
        "  for sent in rev:\n",
        "    p = analyzer.polarity_scores(\" \".join([w for w in sent]))\n",
        "    if p['pos'] > p['neg']: pos_ += 1\n",
        "    else: neg_ += 1\n",
        "  prediction_labels.append(0 if pos_ > neg_ else 1)\n",
        "print(classification_report(labels_sa, prediction_labels, digits=3))\n",
        "\n",
        "prediction_labels = []\n",
        "\n",
        "for rev in (pos+neg):\n",
        "  pos_ = 0\n",
        "  neg_ = 0\n",
        "  for sent in rev:\n",
        "    p = analyzer.polarity_scores(\" \".join([w for w in sent]))\n",
        "    if p['pos'] > p['neg']: pos_ += p['pos']\n",
        "    else: neg_ += p['neg']\n",
        "  prediction_labels.append(0 if pos_ > neg_ else 1)\n",
        "print(classification_report(labels_sa, prediction_labels, digits=3))"
      ]
    },
    {
      "cell_type": "markdown",
      "metadata": {
        "id": "xQLKQjBW62iF"
      },
      "source": [
        "**Objectivity detection using LSTM**"
      ]
    },
    {
      "cell_type": "code",
      "execution_count": 16,
      "metadata": {
        "id": "-agqb7wb0Jf8"
      },
      "outputs": [],
      "source": [
        "from tqdm import tqdm\n",
        "import torch\n",
        "import torch.nn as nn\n",
        "import torch.utils.data as data\n",
        "from torch.utils.data import DataLoader\n",
        "\n",
        "device = torch.device(\"cuda\" if torch.cuda.is_available() else \"cpu\")\n",
        "criterion = nn.CrossEntropyLoss()"
      ]
    },
    {
      "cell_type": "code",
      "execution_count": 17,
      "metadata": {
        "id": "mY-ln6qufjab"
      },
      "outputs": [],
      "source": [
        "batch_size = 120\n",
        "seq_len = 100\n",
        "word_embedding = 300\n",
        "epochs = 10\n",
        "learning_rate = 0.01\n",
        "n_categories = 2\n",
        "n_hidden = 256\n",
        "lr = 3e-4"
      ]
    },
    {
      "cell_type": "code",
      "execution_count": 18,
      "metadata": {
        "id": "F_9zUQ9luN_U"
      },
      "outputs": [],
      "source": [
        "class Db(data.Dataset):\n",
        "  def __init__(self, rev, labels):\n",
        "    self.rev = rev\n",
        "    self.labels = labels\n",
        "\n",
        "  def __len__(self):\n",
        "    return len(self.rev)\n",
        "\n",
        "  def __getitem__(self, idx: int):\n",
        "    return torch.tensor(self.rev[idx]), torch.tensor(self.labels[idx])"
      ]
    },
    {
      "cell_type": "code",
      "source": [
        "def get_scheduler(optimizer, epochs, sched='cosine'):\n",
        "  if sched == 'cosine':\n",
        "    scheduler = torch.optim.lr_scheduler.CosineAnnealingLR(optimizer, epochs)\n",
        "  \n",
        "  return scheduler\n",
        "\n",
        "def get_optimizer(model, lr, wd=0, momentum=0, opt='Adam'):\n",
        "  if opt == 'Adam':\n",
        "    optimizer = torch.optim.Adam(model.parameters(), lr=lr)\n",
        "  elif opt == 'SGD':\n",
        "    optimizer = torch.optim.SGD(model.parameters(), lr=lr, weight_decay=wd, momentum=momentum)\n",
        "  \n",
        "  return optimizer"
      ],
      "metadata": {
        "id": "lZF2clSWAl3G"
      },
      "execution_count": 19,
      "outputs": []
    },
    {
      "cell_type": "code",
      "execution_count": 20,
      "metadata": {
        "id": "rpnC4z92-Cki"
      },
      "outputs": [],
      "source": [
        "def create_tens(rev, seq_len, word_embedding):\n",
        "  \n",
        "  rev = word_tokenize(rev)\n",
        "  if len(rev) > seq_len: \n",
        "    rev = rev[:seq_len]\n",
        "\n",
        "  sent = []\n",
        "  for i, w in enumerate(rev):\n",
        "    vector = nlp.vocab[w].vector\n",
        "    sent.append(vector.tolist())\n",
        "  \n",
        "  z = list(np.zeros(word_embedding, dtype=np.float32))\n",
        "  zs = [z for each in range(seq_len - len(sent))]\n",
        "  return zs + sent"
      ]
    },
    {
      "cell_type": "code",
      "execution_count": 21,
      "metadata": {
        "id": "4yYFIJRRPEKt"
      },
      "outputs": [],
      "source": [
        "labels = np.append(np.zeros((len(subj_docs)), dtype=int), np.ones((len(subj_docs)), dtype=int))\n",
        "\n",
        "train_samples, test_samples, train_labels, test_labels = train_test_split(corpus_sub, labels, test_size=0.3)\n",
        "\n",
        "train_samples = [create_tens(rev, seq_len, word_embedding) for rev in train_samples]\n",
        "test_samples = [create_tens(rev, seq_len, word_embedding) for rev in test_samples]\n",
        "\n",
        "# train samples are tensors of seq_len x word_embedding\n",
        "train_dataset = Db(train_samples, train_labels)\n",
        "test_dataset = Db(test_samples, test_labels)\n",
        "\n",
        "train_loader = torch.utils.data.DataLoader(train_dataset, batch_size=batch_size, shuffle=True)\n",
        "test_loader = torch.utils.data.DataLoader(test_dataset, batch_size=batch_size)"
      ]
    },
    {
      "cell_type": "code",
      "execution_count": 22,
      "metadata": {
        "id": "J196nAnrEXhg"
      },
      "outputs": [],
      "source": [
        "# training\n",
        "def train(model, optimizer, train_loader, e):\n",
        "\n",
        "  cumulative_accuracy = 0\n",
        "  samples=0\n",
        "  pbar = tqdm(train_loader)\n",
        "  for x,y in pbar:\n",
        "    x = x.to(device)\n",
        "    y = y.to(device)\n",
        "    outputs = model(x)\n",
        "    loss = criterion(outputs, y.long())\n",
        "    _, predicted = outputs.max(1)\n",
        "\n",
        "    optimizer.zero_grad()\n",
        "    loss.backward()\n",
        "    optimizer.step()\n",
        "    \n",
        "    samples += x.shape[0]\n",
        "    cumulative_accuracy += predicted.eq(y).sum().item()\n",
        "    pbar.set_description('Epoch {}/{}, Train accuracy: {:.2f}'.format(e+1,epochs, cumulative_accuracy/samples*100))\n",
        "  return cumulative_accuracy/samples*100"
      ]
    },
    {
      "cell_type": "code",
      "execution_count": 23,
      "metadata": {
        "id": "XIYsC8uDEYAx"
      },
      "outputs": [],
      "source": [
        "def evaluate(model, test_loader):\n",
        "\n",
        "  cumulative_accuracy = 0\n",
        "  samples=0\n",
        "  pbar = tqdm(test_loader)\n",
        "  for x,y in pbar:\n",
        "    x = x.to(device)\n",
        "    y = y.to(device)\n",
        "\n",
        "    outputs = model(x)\n",
        "    loss = criterion(outputs, y.long())\n",
        "    _, predicted = outputs.max(1)\n",
        "    samples += x.shape[0]\n",
        "    cumulative_accuracy += predicted.eq(y).sum().item()\n",
        "    pbar.set_description('Evaluate accuracy: {:.2f}'.format(cumulative_accuracy/samples*100))\n",
        "  return cumulative_accuracy/samples*100"
      ]
    },
    {
      "cell_type": "code",
      "execution_count": 24,
      "metadata": {
        "id": "06TVEXxQh8KG"
      },
      "outputs": [],
      "source": [
        "class LSTM(nn.Module):\n",
        "  def __init__(self, input_size, hidden_size, output_size):\n",
        "    super(LSTM, self).__init__()\n",
        "    \n",
        "    self.input_size = input_size\n",
        "    self.hidden_size = hidden_size\n",
        "    self.output_size = output_size\n",
        "    self.i2h = nn.LSTM(input_size, hidden_size, num_layers=2, dropout = 0.5, bidirectional=True, batch_first=True)\n",
        "    self.dropout = nn.Dropout(0.3)\n",
        "    self.leaky_ReLU = nn.LeakyReLU(0.1)\n",
        "    self.i2o = nn.Linear(2*hidden_size, output_size)\n",
        "      \n",
        "  def forward(self, input, hidden=None, cell=None):\n",
        "    if hidden==None:\n",
        "      hidden = self.init_hidden(input.shape[0])\n",
        "    if cell==None:\n",
        "      cell = self.init_hidden(input.shape[0])\n",
        "\n",
        "    output, (_,_)= self.i2h(input, (hidden,cell))\n",
        "    output = self.dropout(output)\n",
        "    output = self.i2o(output)\n",
        "    output = self.leaky_ReLU(output)\n",
        "    output = output[:, -1]\n",
        "    return output\n",
        "\n",
        "  def init_hidden(self,shape=1):\n",
        "    return torch.zeros(2*2, shape, self.hidden_size).to(device)\n",
        "    \n",
        "  def init_cell(self,shape=1):\n",
        "    return torch.zeros(2, shape, self.hidden_size).to(device)"
      ]
    },
    {
      "cell_type": "code",
      "source": [
        "# !wget -O mini.sh https://repo.anaconda.com/miniconda/Miniconda3-py39_4.9.2-Linux-x86_64.sh\n",
        "# !chmod +x mini.sh\n",
        "# !bash ./mini.sh -b -f -p /usr/local\n",
        "# !conda install -q -y jupyter\n",
        "# !conda install -q -y google-colab -c conda-forge\n",
        "# !python -m ipykernel install --name \"py39\" --user"
      ],
      "metadata": {
        "id": "rmlJ1egSJz5s"
      },
      "execution_count": null,
      "outputs": []
    },
    {
      "cell_type": "code",
      "source": [
        "from collections import defaultdict\n",
        "\n",
        "history = defaultdict(list)\n",
        "lstm = LSTM(word_embedding, n_hidden, n_categories).to(device)\n",
        "optimizer = get_optimizer(lstm, lr)\n",
        "scheduler = get_scheduler(optimizer, epochs)\n",
        "\n",
        "for e in range(epochs):\n",
        "  train_acc = train(lstm, optimizer, train_loader, e)\n",
        "  test_acc = evaluate(lstm, test_loader)\n",
        "  history['train_acc'].append(train_acc)\n",
        "  history['test_acc'].append(test_acc)\n",
        "  scheduler.step()\n",
        "evaluate(lstm, test_loader)"
      ],
      "metadata": {
        "colab": {
          "base_uri": "https://localhost:8080/"
        },
        "id": "lgMh4eNqxXv4",
        "outputId": "fcc3dfbc-536a-4f38-fca0-30e46ee4e605"
      },
      "execution_count": 44,
      "outputs": [
        {
          "output_type": "stream",
          "name": "stderr",
          "text": [
            "Epoch 1/10, Train accuracy: 82.06: 100%|██████████| 59/59 [00:36<00:00,  1.62it/s]\n",
            "Evaluate accuracy: 87.90: 100%|██████████| 25/25 [00:14<00:00,  1.74it/s]\n",
            "Epoch 2/10, Train accuracy: 90.77: 100%|██████████| 59/59 [00:37<00:00,  1.59it/s]\n",
            "Evaluate accuracy: 88.67: 100%|██████████| 25/25 [00:14<00:00,  1.72it/s]\n",
            "Epoch 3/10, Train accuracy: 93.20: 100%|██████████| 59/59 [00:36<00:00,  1.60it/s]\n",
            "Evaluate accuracy: 89.47: 100%|██████████| 25/25 [00:14<00:00,  1.72it/s]\n",
            "Epoch 4/10, Train accuracy: 95.63: 100%|██████████| 59/59 [00:38<00:00,  1.55it/s]\n",
            "Evaluate accuracy: 90.17: 100%|██████████| 25/25 [00:14<00:00,  1.73it/s]\n",
            "Epoch 5/10, Train accuracy: 97.40: 100%|██████████| 59/59 [00:37<00:00,  1.58it/s]\n",
            "Evaluate accuracy: 89.80: 100%|██████████| 25/25 [00:14<00:00,  1.74it/s]\n",
            "Epoch 6/10, Train accuracy: 98.46: 100%|██████████| 59/59 [00:36<00:00,  1.63it/s]\n",
            "Evaluate accuracy: 90.13: 100%|██████████| 25/25 [00:14<00:00,  1.74it/s]\n",
            "Epoch 7/10, Train accuracy: 99.19: 100%|██████████| 59/59 [00:36<00:00,  1.64it/s]\n",
            "Evaluate accuracy: 90.07: 100%|██████████| 25/25 [00:14<00:00,  1.73it/s]\n",
            "Epoch 8/10, Train accuracy: 99.44: 100%|██████████| 59/59 [00:38<00:00,  1.54it/s]\n",
            "Evaluate accuracy: 90.17: 100%|██████████| 25/25 [00:15<00:00,  1.63it/s]\n",
            "Epoch 9/10, Train accuracy: 99.56: 100%|██████████| 59/59 [00:35<00:00,  1.64it/s]\n",
            "Evaluate accuracy: 89.17: 100%|██████████| 25/25 [00:14<00:00,  1.74it/s]\n",
            "Epoch 10/10, Train accuracy: 99.54: 100%|██████████| 59/59 [00:35<00:00,  1.64it/s]\n",
            "Evaluate accuracy: 90.33: 100%|██████████| 25/25 [00:14<00:00,  1.75it/s]\n",
            "Evaluate accuracy: 90.13: 100%|██████████| 25/25 [00:14<00:00,  1.75it/s]\n"
          ]
        },
        {
          "output_type": "execute_result",
          "data": {
            "text/plain": [
              "90.13333333333333"
            ]
          },
          "metadata": {},
          "execution_count": 44
        }
      ]
    },
    {
      "cell_type": "code",
      "source": [
        "import matplotlib.pyplot as plt\n",
        "\n",
        "plt.plot([s for s in history['train_acc']], label='train accuracy')\n",
        "plt.plot([g for g in history['test_acc']], label='test accuracy')\n",
        "plt.title('Training history')\n",
        "plt.ylabel('Accuracy')\n",
        "plt.xlabel('Epoch')\n",
        "plt.legend()\n",
        "plt.ylim([60, 100]);"
      ],
      "metadata": {
        "colab": {
          "base_uri": "https://localhost:8080/",
          "height": 295
        },
        "id": "XldLGzDTXBJ_",
        "outputId": "b41eef8f-a0ba-4a41-ba47-aa289525a65a"
      },
      "execution_count": 45,
      "outputs": [
        {
          "output_type": "display_data",
          "data": {
            "text/plain": [
              "<Figure size 432x288 with 1 Axes>"
            ],
            "image/png": "[encoded data removed]"
          },
          "metadata": {
            "needs_background": "light"
          }
        }
      ]
    },
    {
      "cell_type": "markdown",
      "metadata": {
        "id": "DZznxQXv-Skx"
      },
      "source": [
        "**Importing pre-trained DistilBERT model and tokenizer**"
      ]
    },
    {
      "cell_type": "markdown",
      "metadata": {
        "id": "R4Op5u2n-a8r"
      },
      "source": [
        "**Fine-tune BERT Model for Sentiment Analysis in Google Colab**\n"
      ]
    },
    {
      "cell_type": "code",
      "execution_count": null,
      "metadata": {
        "id": "jg5YIIpo-hjZ"
      },
      "outputs": [],
      "source": [
        "# ! pip3 install transformers"
      ]
    },
    {
      "cell_type": "code",
      "execution_count": null,
      "metadata": {
        "id": "N-7YPU12-N8V"
      },
      "outputs": [],
      "source": [
        "from transformers import BertModel, BertTokenizer, get_linear_schedule_with_warmup\n",
        "from torch.utils.data import Dataset, DataLoader\n",
        "import transformers as ppb\n",
        "from sklearn.linear_model import LogisticRegression\n",
        "\n",
        "PRE_TRAINED_MODEL_NAME = 'bert-base-uncased'\n",
        "tokenizer = BertTokenizer.from_pretrained(PRE_TRAINED_MODEL_NAME, do_lower_case=True)"
      ]
    },
    {
      "cell_type": "code",
      "execution_count": 18,
      "metadata": {
        "id": "X8WT1Sx4-uXZ"
      },
      "outputs": [],
      "source": [
        "class GPReviewDataset(Dataset):\n",
        "  def __init__(self, reviews, targets, tokenizer, max_len):\n",
        "    self.reviews = reviews\n",
        "    self.targets = targets\n",
        "    self.tokenizer = tokenizer\n",
        "    self.max_len = max_len\n",
        "  \n",
        "  def __len__(self):\n",
        "    return len(self.reviews)\n",
        "  \n",
        "  def __getitem__(self, item):\n",
        "    review = str(self.reviews[item])\n",
        "    target = self.targets[item]\n",
        "    encoding = self.tokenizer.encode_plus(\n",
        "      review,\n",
        "      add_special_tokens=True,\n",
        "      max_length=self.max_len,\n",
        "      return_token_type_ids=False,\n",
        "      truncation=True,\n",
        "      padding='max_length',\n",
        "      return_attention_mask=True,\n",
        "      return_tensors='pt',\n",
        "    )\n",
        "\n",
        "    return {\n",
        "      'review_text': review,\n",
        "      'input_ids': encoding['input_ids'].flatten(),\n",
        "      'attention_mask': encoding['attention_mask'].flatten(),\n",
        "      'targets': torch.tensor(target, dtype=torch.long)\n",
        "    }"
      ]
    },
    {
      "cell_type": "code",
      "execution_count": 19,
      "metadata": {
        "id": "F4VqydZM-vvB"
      },
      "outputs": [],
      "source": [
        "BATCH_SIZE = 16\n",
        "MAX_LEN = 512"
      ]
    },
    {
      "cell_type": "code",
      "execution_count": 20,
      "metadata": {
        "id": "eZDOI75--wEd"
      },
      "outputs": [],
      "source": [
        "class SentimentClassifier(nn.Module):\n",
        "  def __init__(self, n_classes):\n",
        "    super(SentimentClassifier, self).__init__()\n",
        "    self.bert = BertModel.from_pretrained(PRE_TRAINED_MODEL_NAME)\n",
        "    self.drop = nn.Dropout(p=0.3)\n",
        "    self.out = nn.Linear(self.bert.config.hidden_size, n_classes)\n",
        "  \n",
        "  def forward(self, input_ids, attention_mask):\n",
        "    #returns the last hidden state (_) and the pooled output\n",
        "    _, pooled_output = self.bert(\n",
        "      input_ids=input_ids,\n",
        "      attention_mask=attention_mask,\n",
        "      return_dict=False\n",
        "    )\n",
        "    output = self.drop(pooled_output)\n",
        "    return self.out(output)"
      ]
    },
    {
      "cell_type": "code",
      "source": [
        "from google.colab import output\n",
        "output.disable_custom_widget_manager()"
      ],
      "metadata": {
        "id": "_tKK_UeXdI0G"
      },
      "execution_count": 21,
      "outputs": []
    },
    {
      "cell_type": "code",
      "execution_count": 22,
      "metadata": {
        "id": "VSbtDwzW-x6Q"
      },
      "outputs": [],
      "source": [
        "def  create_data_loader(reviews, targets, tokenizer, max_len, batch_size):\n",
        "  ds = GPReviewDataset(\n",
        "    reviews=reviews,\n",
        "    targets=targets,\n",
        "    tokenizer=tokenizer,\n",
        "    max_len=max_len\n",
        "  )\n",
        "  return DataLoader(ds,batch_size=batch_size,num_workers=2)\n",
        "  \n",
        "corpus_sa_subj = [normalizeString(doc2string(p)) for p in pos] + [normalizeString(doc2string(n)) for n in neg]\n",
        "\n",
        "train_data, test_data, train_labels, test_labels = train_test_split(corpus_sa_subj, labels_sa_subj)\n",
        "\n",
        "train_data_loader = create_data_loader(train_data, train_labels, tokenizer, MAX_LEN, BATCH_SIZE)\n",
        "test_data_loader = create_data_loader(test_data, test_labels, tokenizer, MAX_LEN, BATCH_SIZE)"
      ]
    },
    {
      "cell_type": "code",
      "execution_count": null,
      "metadata": {
        "id": "a8wRhfjc-y6x"
      },
      "outputs": [],
      "source": [
        "categories = 2\n",
        "model = SentimentClassifier(categories).to(device)"
      ]
    },
    {
      "cell_type": "code",
      "execution_count": 24,
      "metadata": {
        "id": "VPDt58uG-1FP"
      },
      "outputs": [],
      "source": [
        "optimizer = torch.optim.Adam(model.parameters(), lr=2e-5)\n",
        "total_steps = len(train_data_loader) * epochs\n",
        "\n",
        "#As in the paper: the lr decreases linearly from the initial lr set in the optimizer to 0\n",
        "scheduler = get_linear_schedule_with_warmup(\n",
        "  optimizer,\n",
        "  num_warmup_steps=0,\n",
        "  num_training_steps=total_steps\n",
        ")\n",
        "loss_fn = nn.CrossEntropyLoss().to(device)"
      ]
    },
    {
      "cell_type": "code",
      "execution_count": 25,
      "metadata": {
        "id": "UnLQ0PEw-7qH"
      },
      "outputs": [],
      "source": [
        "def train_epoch(model, data_loader, loss_fn, optimizer, device, scheduler, n_examples):\n",
        "  model = model.train()\n",
        "  losses = []\n",
        "  correct_predictions = 0\n",
        "\n",
        "  for d in data_loader:\n",
        "    # thanks to dataloader, data are aggregated\n",
        "    input_ids = d[\"input_ids\"].to(device)\n",
        "    attention_mask = d[\"attention_mask\"].to(device)\n",
        "    targets = d[\"targets\"].to(device)\n",
        "\n",
        "    outputs = model(\n",
        "      input_ids=input_ids,\n",
        "      attention_mask=attention_mask\n",
        "    )\n",
        "    _, preds = torch.max(outputs, dim=1)\n",
        "    loss = loss_fn(outputs, targets)\n",
        "    correct_predictions += torch.sum(preds == targets)\n",
        "    losses.append(loss.item())\n",
        "    loss.backward()\n",
        "    # to avoid exploding gradient\n",
        "    nn.utils.clip_grad_norm_(model.parameters(), max_norm=1.0)\n",
        "    optimizer.step()\n",
        "    scheduler.step()\n",
        "    optimizer.zero_grad()\n",
        "\n",
        "  return correct_predictions.double() / n_examples, np.mean(losses)"
      ]
    },
    {
      "cell_type": "code",
      "execution_count": 26,
      "metadata": {
        "id": "0rbVkN2Q-8mz"
      },
      "outputs": [],
      "source": [
        "def eval_model(model, data_loader, loss_fn, device,n_examples):\n",
        "  model = model.eval()\n",
        "  losses = []\n",
        "  correct_predictions = 0\n",
        "\n",
        "\n",
        "  with torch.no_grad():\n",
        "    for d in data_loader:\n",
        "      input_ids = d[\"input_ids\"].to(device)\n",
        "      attention_mask = d[\"attention_mask\"].to(device)\n",
        "      targets = d[\"targets\"].to(device)\n",
        "      outputs = model(\n",
        "        input_ids=input_ids,\n",
        "        attention_mask=attention_mask\n",
        "      )\n",
        "      _, preds = torch.max(outputs, dim=1)\n",
        "      loss = loss_fn(outputs, targets)\n",
        "      correct_predictions += torch.sum(preds == targets)\n",
        "      losses.append(loss.item())\n",
        "\n",
        "  return correct_predictions.double() / n_examples, np.mean(losses)"
      ]
    },
    {
      "cell_type": "code",
      "execution_count": 27,
      "metadata": {
        "id": "XQ1G69QU--dS",
        "colab": {
          "base_uri": "https://localhost:8080/"
        },
        "outputId": "966ad0cf-c7b9-4341-ac47-2151021168cb"
      },
      "outputs": [
        {
          "output_type": "stream",
          "name": "stdout",
          "text": [
            "Epoch 1/10\n",
            "Train loss 0.690 Train accuracy 0.526 \n",
            "Test loss 0.540 Test accuracy 0.720 \n",
            "----------\n",
            "Epoch 2/10\n",
            "Train loss 0.431 Train accuracy 0.815 \n",
            "Test loss 0.354 Test accuracy 0.868 \n",
            "----------\n",
            "Epoch 3/10\n",
            "Train loss 0.238 Train accuracy 0.924 \n",
            "Test loss 0.554 Test accuracy 0.862 \n",
            "----------\n",
            "Epoch 4/10\n",
            "Train loss 0.173 Train accuracy 0.951 \n",
            "Test loss 0.638 Test accuracy 0.870 \n",
            "----------\n",
            "Epoch 5/10\n",
            "Train loss 0.105 Train accuracy 0.975 \n",
            "Test loss 0.639 Test accuracy 0.876 \n",
            "----------\n",
            "Epoch 6/10\n",
            "Train loss 0.082 Train accuracy 0.980 \n",
            "Test loss 0.702 Test accuracy 0.870 \n",
            "----------\n",
            "Epoch 7/10\n",
            "Train loss 0.029 Train accuracy 0.994 \n",
            "Test loss 0.788 Test accuracy 0.870 \n",
            "----------\n",
            "Epoch 8/10\n",
            "Train loss 0.023 Train accuracy 0.995 \n",
            "Test loss 0.773 Test accuracy 0.880 \n",
            "----------\n",
            "Epoch 9/10\n",
            "Train loss 0.011 Train accuracy 0.997 \n",
            "Test loss 0.770 Test accuracy 0.872 \n",
            "----------\n",
            "Epoch 10/10\n",
            "Train loss 0.002 Train accuracy 0.999 \n",
            "Test loss 0.795 Test accuracy 0.882 \n",
            "----------\n"
          ]
        }
      ],
      "source": [
        "history = defaultdict(list)\n",
        "best_accuracy = 0\n",
        "for epoch in range(epochs):\n",
        "  print(f'Epoch {epoch + 1}/{epochs}')\n",
        "  train_acc, train_loss = train_epoch(\n",
        "    model,\n",
        "    train_data_loader,\n",
        "    loss_fn,\n",
        "    optimizer,\n",
        "    device,\n",
        "    scheduler,\n",
        "    len(train_data)\n",
        "  )\n",
        "  print('Train loss {:.3f} Train accuracy {:.3f} '.format(train_loss, train_acc))\n",
        "\n",
        "  test_acc, test_loss = eval_model(\n",
        "    model,\n",
        "    test_data_loader,\n",
        "    loss_fn,\n",
        "    device,\n",
        "    len(test_data)\n",
        "  )\n",
        "  print('Test loss {:.3f} Test accuracy {:.3f} '.format(test_loss, test_acc))\n",
        "\n",
        "  print('-' * 10)\n",
        "  history['train_acc'].append(train_acc)\n",
        "  history['train_loss'].append(train_loss)\n",
        "  history['test_acc'].append(test_acc)\n",
        "  history['test_loss'].append(test_loss)"
      ]
    },
    {
      "cell_type": "code",
      "execution_count": 28,
      "metadata": {
        "id": "pZEa7sn7-_vH",
        "colab": {
          "base_uri": "https://localhost:8080/",
          "height": 295
        },
        "outputId": "c3d65ce6-5657-4e29-bda1-026053059264"
      },
      "outputs": [
        {
          "output_type": "display_data",
          "data": {
            "text/plain": [
              "<Figure size 432x288 with 1 Axes>"
            ],
            "image/png": "[encoded data removed]"
          },
          "metadata": {
            "needs_background": "light"
          }
        }
      ],
      "source": [
        "import matplotlib.pyplot as plt\n",
        "\n",
        "plt.plot([s.item() for s in history['train_acc']], label='train accuracy')\n",
        "plt.plot([s.item() for s in history['test_acc']], label='test accuracy')\n",
        "plt.title('Training history')\n",
        "plt.ylabel('Accuracy')\n",
        "plt.xlabel('Epoch')\n",
        "plt.legend()\n",
        "plt.ylim([0, 1]);"
      ]
    }
  ],
  "metadata": {
    "accelerator": "GPU",
    "colab": {
      "collapsed_sections": [],
      "name": "NLU_project.ipynb",
      "provenance": [],
      "authorship_tag": "ABX9TyMn5GqmM0IaP5loNRrexNMZ",
      "include_colab_link": true
    },
    "gpuClass": "standard",
    "kernelspec": {
      "display_name": "Python 3",
      "name": "python3"
    },
    "language_info": {
      "name": "python"
    }
  },
  "nbformat": 4,
  "nbformat_minor": 0
}